{
 "cells": [
  {
   "cell_type": "markdown",
   "id": "electronic-election",
   "metadata": {},
   "source": [
    "### Imports and paths"
   ]
  },
  {
   "cell_type": "code",
   "execution_count": 1,
   "id": "popular-habitat",
   "metadata": {},
   "outputs": [],
   "source": [
    "# Common imports\n",
    "import os\n",
    "import cv2\n",
    "import numpy as np\n",
    "from PIL import Image\n",
    "from torchvision import transforms\n",
    "import torch\n",
    "import pandas as pd\n",
    "\n",
    "# Repo imports\n",
    "from util import losses"
   ]
  },
  {
   "cell_type": "code",
   "execution_count": 2,
   "id": "median-driving",
   "metadata": {},
   "outputs": [],
   "source": [
    "# Setting paths\n",
    "root = '/data/vision/torralba/virtualhome/realvirtualhome/realvirtualhome/totem/totems-clean/'\n",
    "\n",
    "# Fixed paths\n",
    "ckpt_dir = os.path.join(root, 'ckpts')\n",
    "data_dir = os.path.join(root, 'data')"
   ]
  },
  {
   "cell_type": "markdown",
   "id": "closed-extra",
   "metadata": {},
   "source": [
    "### Table1 (simulator)"
   ]
  },
  {
   "cell_type": "code",
   "execution_count": 7,
   "id": "biological-shoulder",
   "metadata": {},
   "outputs": [],
   "source": [
    "# Reconstruction evaluation: Image-wise L1 and LPIPS, totem pose L1\n",
    "def image_l1(imgA_path, imgB_path, y_valid=None):\n",
    "    imgA = (cv2.imread(imgA_path)).astype(float)\n",
    "    imgB = (cv2.imread(imgB_path)).astype(float)\n",
    "    if y_valid:\n",
    "        l1 = np.mean(np.abs(imgA-imgB)[:y_valid])/255\n",
    "    else:\n",
    "        l1 = np.mean(np.abs(imgA-imgB))/255\n",
    "    return l1\n",
    "\n",
    "def image_LPIPS(imgA_path, imgB_path, lpips_loss, y_valid=None):\n",
    "    imgA = Image.open(imgA_path)\n",
    "    imgB = Image.open(imgB_path)\n",
    "    if y_valid:\n",
    "        w, h = imgA.size\n",
    "        imgA_tensor = transform(imgA.crop((0, 0, w, y_valid)))\n",
    "        imgB_tensor = transform(imgB.crop((0, 0, w, y_valid)))\n",
    "    else:\n",
    "        imgA_tensor = transform(imgA)\n",
    "        imgB_tensor = transform(imgB)\n",
    "#     if y_valid:\n",
    "#         w, h = imgA.size\n",
    "#         imgA = imgA.crop((0, 0, w, y_valid))\n",
    "#         imgB = imgB.crop((0, 0, w, y_valid))\n",
    "#     imgA_tensor = transform(imgA)\n",
    "#     imgB_tensor = transform(imgB)\n",
    "    with torch.no_grad():\n",
    "        out_lpips = lpips_loss(imgA_tensor[None], imgB_tensor[None])\n",
    "    lpips_dist = np.mean(out_lpips[0][0].numpy())\n",
    "    return lpips_dist\n",
    "\n",
    "def load_totem_pose(ckpt_name):\n",
    "    fnames = os.listdir(os.path.join(ckpt_dir, ckpt_name))\n",
    "    fnames = sorted([fname for fname in fnames if 'tar' in fname])\n",
    "    ckpt = torch.load(os.path.join(ckpt_dir, ckpt_name, fnames[-1]))\n",
    "    totem_pose = ckpt['totem_pos'].detach().cpu().numpy()\n",
    "    return totem_pose * 100 # totem_pose was scaled down by 100 for training, now scaling back\n",
    "\n",
    "def totem_pose_l1(est, gt):\n",
    "    return np.mean(np.abs(est-gt))"
   ]
  },
  {
   "cell_type": "code",
   "execution_count": 4,
   "id": "distinct-writing",
   "metadata": {},
   "outputs": [
    {
     "name": "stdout",
     "output_type": "stream",
     "text": [
      "Setting up [LPIPS] perceptual loss: trunk [vgg], v[0.1], spatial [on]\n",
      "Loading model from: /data/vision/torralba/virtualhome/realvirtualhome/realvirtualhome/totem/nerf-pytorch/venv/lib/python3.6/site-packages/lpips/weights/v0.1/vgg.pth\n"
     ]
    }
   ],
   "source": [
    "# Set up loss and transform for LPIPS\n",
    "os.environ['HOME'] = root\n",
    "lpips_loss = losses.LPIPS_Loss()\n",
    "transform = transforms.Compose([\n",
    "    transforms.ToTensor(),\n",
    "    transforms.Normalize((0.5, 0.5, 0.5), (0.5, 0.5, 0.5))\n",
    "])"
   ]
  },
  {
   "cell_type": "code",
   "execution_count": 6,
   "id": "incident-completion",
   "metadata": {},
   "outputs": [],
   "source": [
    "# Evaluation\n",
    "ckpt_names = ['mitsuba_initial_pose', 'mitsuba_joint_pose', 'mitsuba_gt_pose', \n",
    "             'envmap_initial_pose', 'envmap_joint_pose', 'envmap_gt_pose']\n",
    "\n",
    "l1_dists = []\n",
    "lpips_dists = []\n",
    "totem_l1_dists = []\n",
    "for ckpt_name in ckpt_names:\n",
    "    # Calculate L1 and LPIPS\n",
    "    recon_path = os.path.join(ckpt_dir, ckpt_name, 'recon.png')\n",
    "    gt_path = os.path.join(ckpt_dir, ckpt_name, 'gt.jpg')\n",
    "    l1_dists.append(round(image_l1(recon_path, gt_path), 3))\n",
    "    lpips_dists.append(round(image_LPIPS(recon_path, gt_path, lpips_loss), 3))    \n",
    "    # Calculate totem L1\n",
    "    gt_totem_pose = np.load(os.path.join(data_dir, ckpt_name.split('_')[0], 'gt_totem_pose.npy'))\n",
    "    if 'joint' in ckpt_name:\n",
    "        est_totem_pose = load_totem_pose(ckpt_name)\n",
    "    elif 'initial' in ckpt_name:\n",
    "        est_totem_pose = np.load(os.path.join(data_dir, ckpt_name.split('_')[0], 'initial_totem_pose.npy'))\n",
    "    else:\n",
    "        est_totem_pose = gt_totem_pose\n",
    "        \n",
    "    totem_l1_dists.append(round(totem_pose_l1(est_totem_pose, gt_totem_pose), 3))\n",
    "        \n",
    "    "
   ]
  },
  {
   "cell_type": "code",
   "execution_count": 7,
   "id": "geographic-afternoon",
   "metadata": {},
   "outputs": [
    {
     "data": {
      "text/html": [
       "<div>\n",
       "<style scoped>\n",
       "    .dataframe tbody tr th:only-of-type {\n",
       "        vertical-align: middle;\n",
       "    }\n",
       "\n",
       "    .dataframe tbody tr th {\n",
       "        vertical-align: top;\n",
       "    }\n",
       "\n",
       "    .dataframe thead th {\n",
       "        text-align: right;\n",
       "    }\n",
       "</style>\n",
       "<table border=\"1\" class=\"dataframe\">\n",
       "  <thead>\n",
       "    <tr style=\"text-align: right;\">\n",
       "      <th></th>\n",
       "      <th>L1</th>\n",
       "      <th>LPIPS</th>\n",
       "      <th>totem L1</th>\n",
       "    </tr>\n",
       "  </thead>\n",
       "  <tbody>\n",
       "    <tr>\n",
       "      <th>mitsuba_initial_pose</th>\n",
       "      <td>0.057</td>\n",
       "      <td>0.658</td>\n",
       "      <td>0.008</td>\n",
       "    </tr>\n",
       "    <tr>\n",
       "      <th>mitsuba_joint_pose</th>\n",
       "      <td>0.054</td>\n",
       "      <td>0.645</td>\n",
       "      <td>0.108</td>\n",
       "    </tr>\n",
       "    <tr>\n",
       "      <th>mitsuba_gt_pose</th>\n",
       "      <td>0.047</td>\n",
       "      <td>0.625</td>\n",
       "      <td>0.000</td>\n",
       "    </tr>\n",
       "    <tr>\n",
       "      <th>envmap_initial_pose</th>\n",
       "      <td>0.173</td>\n",
       "      <td>0.617</td>\n",
       "      <td>0.060</td>\n",
       "    </tr>\n",
       "    <tr>\n",
       "      <th>envmap_joint_pose</th>\n",
       "      <td>0.103</td>\n",
       "      <td>0.520</td>\n",
       "      <td>0.027</td>\n",
       "    </tr>\n",
       "    <tr>\n",
       "      <th>envmap_gt_pose</th>\n",
       "      <td>0.040</td>\n",
       "      <td>0.476</td>\n",
       "      <td>0.000</td>\n",
       "    </tr>\n",
       "  </tbody>\n",
       "</table>\n",
       "</div>"
      ],
      "text/plain": [
       "                         L1  LPIPS  totem L1\n",
       "mitsuba_initial_pose  0.057  0.658     0.008\n",
       "mitsuba_joint_pose    0.054  0.645     0.108\n",
       "mitsuba_gt_pose       0.047  0.625     0.000\n",
       "envmap_initial_pose   0.173  0.617     0.060\n",
       "envmap_joint_pose     0.103  0.520     0.027\n",
       "envmap_gt_pose        0.040  0.476     0.000"
      ]
     },
     "execution_count": 7,
     "metadata": {},
     "output_type": "execute_result"
    }
   ],
   "source": [
    "# Print table\n",
    "table1_sim = pd.DataFrame(np.transpose([l1_dists, lpips_dists, totem_l1_dists]),\n",
    "                          index=ckpt_names,\n",
    "                          columns=[\"L1\", \"LPIPS\", \"totem L1\"])\n",
    "table1_sim"
   ]
  },
  {
   "cell_type": "markdown",
   "id": "incorporate-vocabulary",
   "metadata": {},
   "source": [
    "### Table1 (real images, excluding totem area)"
   ]
  },
  {
   "cell_type": "code",
   "execution_count": 13,
   "id": "medium-belly",
   "metadata": {},
   "outputs": [],
   "source": [
    "# Getting valid y range\n",
    "def get_y_valid(mask_path):\n",
    "    mask = cv2.imread(mask_path)[..., 0]\n",
    "    ys, xs = np.where(mask > 0)\n",
    "    return min(ys)"
   ]
  },
  {
   "cell_type": "code",
   "execution_count": 15,
   "id": "demographic-disease",
   "metadata": {
    "collapsed": true
   },
   "outputs": [
    {
     "name": "stdout",
     "output_type": "stream",
     "text": [
      "JT8A8283c_initial_pose\n",
      "JT8A8283c_joint_pose\n",
      "JT8A8287c_initial_pose\n",
      "JT8A8287c_joint_pose\n",
      "JT8A8291c_initial_pose\n",
      "JT8A8291c_joint_pose\n",
      "JT8A8292c_initial_pose\n",
      "JT8A8292c_joint_pose\n",
      "JT8A8293c_initial_pose\n",
      "JT8A8293c_joint_pose\n",
      "JT8A8297c_initial_pose\n",
      "JT8A8297c_joint_pose\n",
      "JT8A8299c_initial_pose\n",
      "JT8A8299c_joint_pose\n",
      "JT8A8351c_initial_pose\n",
      "JT8A8351c_joint_pose\n",
      "JT8A8352c_initial_pose\n",
      "JT8A8352c_joint_pose\n",
      "JT8A8357c_initial_pose\n",
      "JT8A8357c_joint_pose\n",
      "JT8A8358c_initial_pose\n",
      "JT8A8358c_joint_pose\n",
      "JT8A8359c_initial_pose\n",
      "JT8A8359c_joint_pose\n",
      "JT8A8360c_initial_pose\n",
      "JT8A8360c_joint_pose\n",
      "JT8A8362c_initial_pose\n",
      "JT8A8362c_joint_pose\n",
      "JT8A8365c_initial_pose\n",
      "JT8A8365c_joint_pose\n",
      "JT8A8366c_initial_pose\n",
      "JT8A8366c_joint_pose\n",
      "JT8A8367c_initial_pose\n",
      "JT8A8367c_joint_pose\n",
      "JT8A8368c_initial_pose\n",
      "JT8A8368c_joint_pose\n",
      "JT8A8369c_initial_pose\n",
      "JT8A8369c_joint_pose\n",
      "JT8A8370c_initial_pose\n",
      "JT8A8370c_joint_pose\n",
      "JT8A8371c_initial_pose\n",
      "JT8A8371c_joint_pose\n",
      "JT8A8372c_initial_pose\n",
      "JT8A8372c_joint_pose\n",
      "JT8A8373c_initial_pose\n",
      "JT8A8373c_joint_pose\n",
      "JT8A8374c_initial_pose\n",
      "JT8A8374c_joint_pose\n",
      "JT8A8375c_initial_pose\n",
      "JT8A8375c_joint_pose\n",
      "JT8A8376c_initial_pose\n",
      "JT8A8376c_joint_pose\n",
      "envmap_gt_pose\n"
     ]
    },
    {
     "ename": "TypeError",
     "evalue": "'NoneType' object is not subscriptable",
     "output_type": "error",
     "traceback": [
      "\u001b[0;31m---------------------------------------------------------------------------\u001b[0m",
      "\u001b[0;31mTypeError\u001b[0m                                 Traceback (most recent call last)",
      "\u001b[0;32m<ipython-input-15-5d1081a34379>\u001b[0m in \u001b[0;36m<module>\u001b[0;34m\u001b[0m\n\u001b[1;32m     11\u001b[0m     \u001b[0mgt_path\u001b[0m \u001b[0;34m=\u001b[0m \u001b[0mos\u001b[0m\u001b[0;34m.\u001b[0m\u001b[0mpath\u001b[0m\u001b[0;34m.\u001b[0m\u001b[0mjoin\u001b[0m\u001b[0;34m(\u001b[0m\u001b[0mckpt_dir\u001b[0m\u001b[0;34m,\u001b[0m \u001b[0mckpt_name\u001b[0m\u001b[0;34m,\u001b[0m \u001b[0;34m'eval'\u001b[0m\u001b[0;34m,\u001b[0m \u001b[0;34m'gt.png'\u001b[0m\u001b[0;34m)\u001b[0m\u001b[0;34m\u001b[0m\u001b[0;34m\u001b[0m\u001b[0m\n\u001b[1;32m     12\u001b[0m     \u001b[0mtotem_mask_path\u001b[0m \u001b[0;34m=\u001b[0m \u001b[0mos\u001b[0m\u001b[0;34m.\u001b[0m\u001b[0mpath\u001b[0m\u001b[0;34m.\u001b[0m\u001b[0mjoin\u001b[0m\u001b[0;34m(\u001b[0m\u001b[0mckpt_dir\u001b[0m\u001b[0;34m,\u001b[0m \u001b[0mckpt_name\u001b[0m\u001b[0;34m,\u001b[0m \u001b[0;34m'eval'\u001b[0m\u001b[0;34m,\u001b[0m \u001b[0;34m'totem_mask.png'\u001b[0m\u001b[0;34m)\u001b[0m\u001b[0;34m\u001b[0m\u001b[0;34m\u001b[0m\u001b[0m\n\u001b[0;32m---> 13\u001b[0;31m     \u001b[0my_valid\u001b[0m \u001b[0;34m=\u001b[0m \u001b[0mget_y_valid\u001b[0m\u001b[0;34m(\u001b[0m\u001b[0mtotem_mask_path\u001b[0m\u001b[0;34m)\u001b[0m\u001b[0;34m\u001b[0m\u001b[0;34m\u001b[0m\u001b[0m\n\u001b[0m\u001b[1;32m     14\u001b[0m     \u001b[0my_valid\u001b[0m \u001b[0;34m=\u001b[0m \u001b[0my_valid\u001b[0m \u001b[0;34m//\u001b[0m \u001b[0;36m3\u001b[0m \u001b[0;34m*\u001b[0m \u001b[0;36m3\u001b[0m\u001b[0;34m\u001b[0m\u001b[0;34m\u001b[0m\u001b[0m\n\u001b[1;32m     15\u001b[0m \u001b[0;31m#     print(y_valid)\u001b[0m\u001b[0;34m\u001b[0m\u001b[0;34m\u001b[0m\u001b[0;34m\u001b[0m\u001b[0m\n",
      "\u001b[0;32m<ipython-input-13-aed851cb3445>\u001b[0m in \u001b[0;36mget_y_valid\u001b[0;34m(mask_path)\u001b[0m\n\u001b[1;32m      1\u001b[0m \u001b[0;31m# Getting valid y range\u001b[0m\u001b[0;34m\u001b[0m\u001b[0;34m\u001b[0m\u001b[0;34m\u001b[0m\u001b[0m\n\u001b[1;32m      2\u001b[0m \u001b[0;32mdef\u001b[0m \u001b[0mget_y_valid\u001b[0m\u001b[0;34m(\u001b[0m\u001b[0mmask_path\u001b[0m\u001b[0;34m)\u001b[0m\u001b[0;34m:\u001b[0m\u001b[0;34m\u001b[0m\u001b[0;34m\u001b[0m\u001b[0m\n\u001b[0;32m----> 3\u001b[0;31m     \u001b[0mmask\u001b[0m \u001b[0;34m=\u001b[0m \u001b[0mcv2\u001b[0m\u001b[0;34m.\u001b[0m\u001b[0mimread\u001b[0m\u001b[0;34m(\u001b[0m\u001b[0mmask_path\u001b[0m\u001b[0;34m)\u001b[0m\u001b[0;34m[\u001b[0m\u001b[0;34m...\u001b[0m\u001b[0;34m,\u001b[0m \u001b[0;36m0\u001b[0m\u001b[0;34m]\u001b[0m\u001b[0;34m\u001b[0m\u001b[0;34m\u001b[0m\u001b[0m\n\u001b[0m\u001b[1;32m      4\u001b[0m     \u001b[0mys\u001b[0m\u001b[0;34m,\u001b[0m \u001b[0mxs\u001b[0m \u001b[0;34m=\u001b[0m \u001b[0mnp\u001b[0m\u001b[0;34m.\u001b[0m\u001b[0mwhere\u001b[0m\u001b[0;34m(\u001b[0m\u001b[0mmask\u001b[0m \u001b[0;34m>\u001b[0m \u001b[0;36m0\u001b[0m\u001b[0;34m)\u001b[0m\u001b[0;34m\u001b[0m\u001b[0;34m\u001b[0m\u001b[0m\n\u001b[1;32m      5\u001b[0m     \u001b[0;32mreturn\u001b[0m \u001b[0mmin\u001b[0m\u001b[0;34m(\u001b[0m\u001b[0mys\u001b[0m\u001b[0;34m)\u001b[0m\u001b[0;34m\u001b[0m\u001b[0;34m\u001b[0m\u001b[0m\n",
      "\u001b[0;31mTypeError\u001b[0m: 'NoneType' object is not subscriptable"
     ]
    }
   ],
   "source": [
    "ckpt_names = [ckpt_name for ckpt_name in os.listdir(ckpt_dir) if ('mitsuba' not in ckpt_name) and ('envmap' not in ckpt_name)]\n",
    "ckpt_names = sorted(ckpt_names)\n",
    "\n",
    "initial_l1_dists = []\n",
    "initial_lpips_dists = []\n",
    "joint_l1_dists = []\n",
    "joint_lpips_dists = []\n",
    "for ckpt_name in ckpt_names:\n",
    "    print(ckpt_name)\n",
    "    recon_path = os.path.join(ckpt_dir, ckpt_name, 'eval', 'recon.png')\n",
    "    gt_path = os.path.join(ckpt_dir, ckpt_name, 'eval', 'gt.png')\n",
    "    totem_mask_path = os.path.join(ckpt_dir, ckpt_name, 'eval', 'totem_mask.png')\n",
    "    y_valid = get_y_valid(totem_mask_path)\n",
    "    y_valid = y_valid // 3 * 3 # somehow for lpips, height must be multiples of 3\n",
    "    l1_dist = round(image_l1(recon_path, gt_path, y_valid), 3)\n",
    "    lpips_dist = round(image_LPIPS(recon_path, gt_path, lpips_loss, y_valid), 3)\n",
    "    if 'initial' in ckpt_name:\n",
    "        initial_l1_dists.append(l1_dist)\n",
    "        initial_lpips_dists.append(lpips_dist)\n",
    "    elif 'joint' in ckpt_name:\n",
    "        joint_l1_dists.append(l1_dist)\n",
    "        joint_lpips_dists.append(lpips_dist)\n"
   ]
  },
  {
   "cell_type": "code",
   "execution_count": 20,
   "id": "light-construction",
   "metadata": {},
   "outputs": [
    {
     "data": {
      "text/html": [
       "<div>\n",
       "<style scoped>\n",
       "    .dataframe tbody tr th:only-of-type {\n",
       "        vertical-align: middle;\n",
       "    }\n",
       "\n",
       "    .dataframe tbody tr th {\n",
       "        vertical-align: top;\n",
       "    }\n",
       "\n",
       "    .dataframe thead th {\n",
       "        text-align: right;\n",
       "    }\n",
       "</style>\n",
       "<table border=\"1\" class=\"dataframe\">\n",
       "  <thead>\n",
       "    <tr style=\"text-align: right;\">\n",
       "      <th></th>\n",
       "      <th>L1</th>\n",
       "      <th>LPIPS</th>\n",
       "    </tr>\n",
       "  </thead>\n",
       "  <tbody>\n",
       "    <tr>\n",
       "      <th>real_initial_pose</th>\n",
       "      <td>0.149</td>\n",
       "      <td>0.644</td>\n",
       "    </tr>\n",
       "    <tr>\n",
       "      <th>real_joint_pose</th>\n",
       "      <td>0.109</td>\n",
       "      <td>0.586</td>\n",
       "    </tr>\n",
       "  </tbody>\n",
       "</table>\n",
       "</div>"
      ],
      "text/plain": [
       "                      L1  LPIPS\n",
       "real_initial_pose  0.149  0.644\n",
       "real_joint_pose    0.109  0.586"
      ]
     },
     "execution_count": 20,
     "metadata": {},
     "output_type": "execute_result"
    }
   ],
   "source": [
    "# Print table\n",
    "table1_real = pd.DataFrame(np.round([[np.mean(initial_l1_dists), np.mean(initial_lpips_dists)],\n",
    "                                    [np.mean(joint_l1_dists), np.mean(joint_lpips_dists)]], 3),\n",
    "                          index=[\"real_initial_pose\", \"real_joint_pose\"],\n",
    "                          columns=[\"L1\", \"LPIPS\"])\n",
    "table1_real"
   ]
  },
  {
   "cell_type": "markdown",
   "id": "increased-technology",
   "metadata": {},
   "source": [
    "### Table2"
   ]
  },
  {
   "cell_type": "code",
   "execution_count": null,
   "id": "average-workplace",
   "metadata": {},
   "outputs": [],
   "source": []
  }
 ],
 "metadata": {
  "kernelspec": {
   "display_name": "Python 3",
   "language": "python",
   "name": "python3"
  },
  "language_info": {
   "codemirror_mode": {
    "name": "ipython",
    "version": 3
   },
   "file_extension": ".py",
   "mimetype": "text/x-python",
   "name": "python",
   "nbconvert_exporter": "python",
   "pygments_lexer": "ipython3",
   "version": "3.6.9"
  }
 },
 "nbformat": 4,
 "nbformat_minor": 5
}
