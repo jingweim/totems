{
 "cells": [
  {
   "cell_type": "code",
   "execution_count": 2,
   "id": "grave-inventory",
   "metadata": {},
   "outputs": [],
   "source": [
    "import os\n",
    "# v1 = joint\n",
    "# v2 = no joint\n",
    "exp_names = ['JT8A8283c_v1', 'JT8A8283c_v2', 'JT8A8287c_v1', 'JT8A8287c_v2', 'JT8A8287c_v1', 'JT8A8287c_v2',\n",
    "            'JT8A8293c_v1', 'JT8A8293c_v2', 'JT8A8297c_v1', 'JT8A8297c_v2','JT8A8299c_v1', 'JT8A8299c_v2']\n",
    "\n",
    "# taking this out for now 'JT8A8290c_v1', 'JT8A8290c_v2', \n",
    "ds = 4 # downsample factor, for naming things\n",
    "grid_size = 30\n",
    "\n",
    "# No time sorry\n",
    "v1_l1_out_dir = f'detection_results_patch/v1_L1_{str(grid_size)}x{str(grid_size)}_results'\n",
    "os.makedirs(v1_l1_out_dir, exist_ok=True)\n",
    "v1_lpips_out_dir = f'detection_results_patch/v1_LPIPS_{str(grid_size)}x{str(grid_size)}_results'\n",
    "os.makedirs(v1_lpips_out_dir, exist_ok=True)\n",
    "v2_l1_out_dir = f'detection_results_patch/v2_L1_{str(grid_size)}x{str(grid_size)}_results'\n",
    "os.makedirs(v2_l1_out_dir, exist_ok=True)\n",
    "v2_lpips_out_dir = f'detection_results_patch/v2_LPIPS_{str(grid_size)}x{str(grid_size)}_results'\n",
    "os.makedirs(v2_lpips_out_dir, exist_ok=True)"
   ]
  },
  {
   "cell_type": "markdown",
   "id": "private-future",
   "metadata": {},
   "source": [
    "## Helpers"
   ]
  },
  {
   "cell_type": "code",
   "execution_count": 3,
   "id": "virtual-mention",
   "metadata": {},
   "outputs": [],
   "source": [
    "from PIL import Image\n",
    "import torch\n",
    "import torch.nn as nn\n",
    "import numpy as np\n",
    "from torchvision import transforms\n",
    "from util import renormalize, show, losses\n",
    "import lpips\n",
    "from sklearn import metrics\n",
    "import matplotlib.pyplot as plt\n",
    "%matplotlib inline\n",
    "plt.rcParams[\"figure.figsize\"] = (16, 8)\n",
    "import cv2\n",
    "import glob\n",
    "import os\n",
    "os.environ['HOME'] = '/data/vision/torralba/virtualhome/realvirtualhome/realvirtualhome/jingweim/'\n",
    "\n",
    "\n",
    "# Set up losses (from Lucy's code)\n",
    "# http://vision38.csail.mit.edu/data/vision/phillipi/gan-training/totem/resources/totems/notebooks/util/losses.py\n",
    "lpips_loss = losses.LPIPS_Loss()\n",
    "patch_loss = losses.Patch_Loss(patch_size=7)\n",
    "l1_loss = nn.L1Loss(reduction='none')\n",
    "transform = transforms.Compose([\n",
    "    transforms.ToTensor(),\n",
    "    transforms.Normalize((0.5, 0.5, 0.5), (0.5, 0.5, 0.5))\n",
    "])\n",
    "transform_label = transforms.Compose([\n",
    "    transforms.ToTensor()\n",
    "])"
   ]
  },
  {
   "cell_type": "code",
   "execution_count": 4,
   "id": "stopped-twenty",
   "metadata": {},
   "outputs": [],
   "source": [
    "from sklearn import metrics\n",
    "\n",
    "def get_y_valid():\n",
    "    '''\n",
    "        y_valid = for cropping out the totem part of the image\n",
    "    '''\n",
    "    source_dir = '../data/source-div%s-crop/' % str(ds)\n",
    "    path_mask = os.path.join(source_dir, 'totem_mask.png')\n",
    "    mask = cv2.imread(path_mask)[..., 0]\n",
    "    y, x = np.where(mask) \n",
    "    y_valid = np.min(y)\n",
    "    return y_valid\n",
    "\n",
    "\n",
    "def get_patches_torch(patch_size, im, im_label, return_labels=False, manip=False):\n",
    "    '''\n",
    "        Sample patches of size (patch_size) with a grid size of (grid_size, defined below)\n",
    "    '''\n",
    "    _, im_h, im_w = im.size()\n",
    "#     grid_size = int(max(im_w, im_h) / float(patch_size) * density)\n",
    "    patches = torch.empty((grid_size ** 2, 3, patch_size, patch_size), dtype=torch.float32)\n",
    "    labels = torch.empty((3, grid_size ** 2), dtype=torch.float32)\n",
    "    idx = 0\n",
    "    for i in np.linspace(0, im_h - patch_size, grid_size).astype(int):\n",
    "        for j in np.linspace(0, im_w - patch_size, grid_size).astype(int):\n",
    "            patches[idx] = im[:, i:i+patch_size, j:j+patch_size]\n",
    "            if return_labels and manip:\n",
    "                label = torch.mean(im_label[:, i:i+patch_size, j:j+patch_size]) > 0.1\n",
    "                labels[:, idx] = label\n",
    "            idx += 1\n",
    "            \n",
    "    if not return_labels:\n",
    "        return patches\n",
    "    if manip:\n",
    "        return patches, labels.view((3, grid_size, grid_size))\n",
    "    else:\n",
    "        return patches, torch.zeros((3, grid_size, grid_size), dtype=torch.float32)\n",
    "\n",
    "\n",
    "def detect(out_dir, manip_fname, loss_fn, A_patches, B_patches, grid_size, image, y_valid):\n",
    "    # Run loss\n",
    "    with torch.no_grad():\n",
    "        out = loss_fn(A_patches, B_patches)\n",
    "    out_ = torch.mean(out, dim=(1, 2, 3)).view(grid_size, grid_size)\n",
    "    np.save(os.path.join(out_dir, manip_fname+'_raw.npy'), out_)\n",
    "    \n",
    "#     # Normalize and resize output\n",
    "#     out_normalized = (out_ - torch.min(out_)) / (torch.max(out_) - torch.min(out_))\n",
    "#     im_w, im_h = image.size\n",
    "#     out = cv2.resize(out_normalized.numpy(), (im_w, y_valid), cv2.INTER_CUBIC)\n",
    "#     np.save(os.path.join(out_dir, manip_fname+f'_{str(grid_size)}x{str(grid_size)}.npy'), out_normalized)\n",
    "#     np.save(os.path.join(out_dir, manip_fname+'_result.npy'), out)\n",
    "#     plt.imsave(os.path.join(out_dir, manip_fname+'_result.png'), out, cmap='jet')\n",
    "#     return out\n",
    "\n",
    "\n",
    "def detect_in_one(exp_name, manip_dir, y_valid):\n",
    "    '''\n",
    "        This is the main detection method\n",
    "    \n",
    "        manip_dir = preprocessed version of Jacob's manipulation\n",
    "        y_valid = for cropping out the totem part of the image\n",
    "        all_paths = append path of manipulation image\n",
    "        l1_scores = append L1 mAP for each image\n",
    "        lpips_scores = append LPIPs mAP for each image\n",
    "        manip_pctg = append percentage of manipulated pixels\n",
    "    '''\n",
    "    im_name = exp_name[:8]\n",
    "    paths = glob.glob(os.path.join(manip_dir, '%s*.png' % im_name))\n",
    "    manip_paths = sorted([path for path in paths if 'mask' not in path])\n",
    "    manip_mask_paths = sorted([path for path in paths if 'mask' in path])\n",
    "    \n",
    "    \n",
    "    # Load data from other paths\n",
    "    source_dir = '../data/source-div4-crop/'\n",
    "    path_nerf = os.path.join(source_dir, f'{exp_name}_nerf.png')\n",
    "    path_protect = os.path.join(source_dir, f'{exp_name}_protect_mask.png')\n",
    "    path_orig = os.path.join(source_dir, f'{im_name}.JPG')\n",
    "\n",
    "    image_nerf = Image.open(path_nerf)\n",
    "    image_orig = Image.open(path_orig)\n",
    "    protect_mask = (cv2.imread(path_protect)[:y_valid, :, 0]/255).astype('uint8')\n",
    "    protect_filter = np.where(protect_mask == 1)\n",
    "\n",
    "\n",
    "    # Transform\n",
    "    w, h = image_nerf.size\n",
    "    nerf_valid_tensor = transform(image_nerf.crop((0, 0, w, y_valid))).clone()\n",
    "    orig_valid_tensor = transform(image_orig.crop((0, 0, w, y_valid))).clone()\n",
    "\n",
    "\n",
    "    # Get patches\n",
    "    patch_size = 64\n",
    "#     density = 1.0\n",
    "    nerf_patches = get_patches_torch(patch_size, nerf_valid_tensor, None, return_labels=False, manip=False)\n",
    "    orig_patches, orig_labels = get_patches_torch(patch_size, orig_valid_tensor, None,return_labels=True, manip=False)\n",
    "    \n",
    "\n",
    "    # Detection\n",
    "    for (manip_path, manip_mask_path) in zip(manip_paths, manip_mask_paths):\n",
    "        # Load data\n",
    "        image_manip = Image.open(manip_path)\n",
    "        image_label = Image.open(manip_mask_path)\n",
    "\n",
    "        # Transform\n",
    "        manip_valid_tensor = transform(image_manip.crop((0, 0, w, y_valid))).clone()\n",
    "        label = transform_label(image_label.crop((0, 0, w, y_valid))).clone()\n",
    "\n",
    "        # Get patches\n",
    "        manip_patches, manip_labels = get_patches_torch(patch_size, manip_valid_tensor, label, return_labels=True, manip=True)\n",
    "        manip_fname = os.path.basename(manip_path).split('.')[0]\n",
    "        print(manip_fname)\n",
    "\n",
    "        # Detection\n",
    "        if 'v1' in exp_name:\n",
    "            pred_l1 = detect(v1_l1_out_dir, manip_fname, l1_loss, nerf_patches, manip_patches, grid_size, image_manip, y_valid)\n",
    "            pred_lpips = detect(v1_lpips_out_dir, manip_fname, lpips_loss, nerf_patches, manip_patches, grid_size, image_manip, y_valid)\n",
    "        else:\n",
    "            pred_l1 = detect(v2_l1_out_dir, manip_fname, l1_loss, nerf_patches, manip_patches, grid_size, image_manip, y_valid)\n",
    "            pred_lpips = detect(v2_lpips_out_dir, manip_fname, lpips_loss, nerf_patches, manip_patches, grid_size, image_manip, y_valid)\n"
   ]
  },
  {
   "cell_type": "markdown",
   "id": "blocked-fifty",
   "metadata": {},
   "source": [
    "## Main"
   ]
  },
  {
   "cell_type": "code",
   "execution_count": 4,
   "id": "british-irish",
   "metadata": {
    "scrolled": true
   },
   "outputs": [
    {
     "name": "stdout",
     "output_type": "stream",
     "text": [
      "JT8A8283c_v1\n",
      "JT8A8283c_0\n",
      "JT8A8283c_1\n",
      "JT8A8283c_2\n",
      "JT8A8283c_v2\n",
      "JT8A8283c_0\n",
      "JT8A8283c_1\n",
      "JT8A8283c_2\n",
      "JT8A8287c_v1\n",
      "JT8A8287c_0\n",
      "JT8A8287c_1\n",
      "JT8A8287c_2\n",
      "JT8A8287c_v2\n",
      "JT8A8287c_0\n",
      "JT8A8287c_1\n",
      "JT8A8287c_2\n",
      "JT8A8287c_v1\n",
      "JT8A8287c_0\n",
      "JT8A8287c_1\n",
      "JT8A8287c_2\n",
      "JT8A8287c_v2\n",
      "JT8A8287c_0\n",
      "JT8A8287c_1\n",
      "JT8A8287c_2\n",
      "JT8A8293c_v1\n",
      "JT8A8293c_0\n",
      "JT8A8293c_1\n",
      "JT8A8293c_2\n",
      "JT8A8293c_v2\n",
      "JT8A8293c_0\n",
      "JT8A8293c_1\n",
      "JT8A8293c_2\n",
      "JT8A8297c_v1\n",
      "JT8A8297c_0\n",
      "JT8A8297c_1\n",
      "JT8A8297c_2\n",
      "JT8A8297c_v2\n",
      "JT8A8297c_0\n",
      "JT8A8297c_1\n",
      "JT8A8297c_2\n",
      "JT8A8299c_v1\n",
      "JT8A8299c_0\n",
      "JT8A8299c_1\n",
      "JT8A8299c_2\n",
      "JT8A8299c_v2\n",
      "JT8A8299c_0\n",
      "JT8A8299c_1\n",
      "JT8A8299c_2\n"
     ]
    }
   ],
   "source": [
    "y_valid = get_y_valid()\n",
    "\n",
    "manip_dir = '/data/vision/phillipi/gan-training/totem/resources/totems/data/manip_patch/'\n",
    "\n",
    "for exp_name in exp_names:\n",
    "    print(exp_name)\n",
    "    detect_in_one(exp_name, manip_dir, y_valid)"
   ]
  },
  {
   "cell_type": "code",
   "execution_count": 22,
   "id": "increasing-license",
   "metadata": {},
   "outputs": [],
   "source": [
    "def get_scores(folder, fname, version, normalize=False):\n",
    "    # I can also renormalize here!!!\n",
    "    \n",
    "    # crop to y_valid for Jacob's pred matrix\n",
    "    y_valid = 534 # hardcoded cuz out of time wwww\n",
    "    path = os.path.join(folder, fname)\n",
    "    out = np.load(path)[:y_valid]\n",
    "    \n",
    "    # load manip mask\n",
    "    manip_dir = '/data/vision/phillipi/gan-training/totem/resources/totems/data/manip_patch/'\n",
    "    manip_mask_path = os.path.join(manip_dir, fname[:11]+'mask.png')\n",
    "#     print(fname, manip_mask_path)\n",
    "    # Make it binary\n",
    "    manip_label = (cv2.imread(manip_mask_path)[:y_valid, :, 0] == 255).astype(out.dtype)\n",
    "    \n",
    "    # load protect mask\n",
    "    ds = 4\n",
    "    exp_name = f'{fname[:8]}c_{version}'\n",
    "    source_dir = '../data/source-div%s-crop/' % str(ds)\n",
    "    path_protect = os.path.join(source_dir, f'{exp_name}_protect_mask.png')\n",
    "    protect_mask = cv2.imread(path_protect)[:y_valid, :, 0]\n",
    "    protect_filter = np.where(protect_mask == 255)\n",
    "    \n",
    "    gt = manip_label[protect_filter]\n",
    "    valid = np.sum(gt) > 0\n",
    "    out = out[protect_filter]\n",
    "    if normalize:\n",
    "        out = (out-np.min(out))/(np.max(out)-np.min(out))\n",
    "#     print(np.max(out))\n",
    "        \n",
    "    if valid:\n",
    "        score = metrics.average_precision_score(gt, out)\n",
    "        pct = np.sum(gt)/len(protect_filter[0]) * 100\n",
    "    else:\n",
    "        score = 'invalid'\n",
    "        pct = 0.0\n",
    "        \n",
    "    return score, pct\n",
    "\n",
    "\n",
    "def get_scores_jacob(folder, fname, version, normalize=False):\n",
    "    # I can also renormalize here!!!\n",
    "    \n",
    "    # crop to y_valid for Jacob's pred matrix\n",
    "    y_valid = 534 # hardcoded cuz out of time wwww\n",
    "    path = os.path.join(folder, fname)\n",
    "    out = np.load(path)[:y_valid]\n",
    "    \n",
    "    # load manip mask\n",
    "    manip_dir = '/data/vision/phillipi/gan-training/totem/resources/totems/data/manip_patch/'\n",
    "    manip_mask_path = os.path.join(manip_dir, fname[:11]+'mask.png')\n",
    "#     print(fname, manip_mask_path)\n",
    "    # Make it binary\n",
    "    manip_label = (cv2.imread(manip_mask_path)[:y_valid, :, 0] == 255).astype(out.dtype)\n",
    "    \n",
    "    gt = manip_label.ravel()\n",
    "    out = out.ravel()\n",
    "    print('GT stats: ', gt.min(), gt.max())\n",
    "    print('Estimate stats: ', out.min(), out.max())\n",
    "    if normalize:\n",
    "        out = (out-np.min(out))/(np.max(out)-np.min(out))\n",
    "#     print(np.max(out))\n",
    "    \n",
    "    score = metrics.average_precision_score(gt, out)\n",
    "    pct = np.sum(gt)/len(gt)*100\n",
    "        \n",
    "    return score, pct"
   ]
  },
  {
   "cell_type": "code",
   "execution_count": 13,
   "id": "treated-voltage",
   "metadata": {},
   "outputs": [],
   "source": [
    "def average_mAP(scores, pcts, thres=0.0):\n",
    "    filtered = [score for (score, pct) in zip(scores, pcts) if pct > thres]\n",
    "    return thres, len(filtered), np.mean(filtered)"
   ]
  },
  {
   "cell_type": "code",
   "execution_count": 23,
   "id": "colored-study",
   "metadata": {},
   "outputs": [
    {
     "name": "stdout",
     "output_type": "stream",
     "text": [
      "GT stats:  0.0 1.0\n",
      "Estimate stats:  0.02093154769389627 0.4239447373317722\n",
      "GT stats:  0.0 1.0\n",
      "Estimate stats:  0.02133570930369011 0.38113688692765724\n",
      "GT stats:  0.0 1.0\n",
      "Estimate stats:  0.020734465643552413 0.3470961099232144\n",
      "GT stats:  0.0 1.0\n",
      "Estimate stats:  0.010254650544206267 0.542271886812052\n",
      "GT stats:  0.0 1.0\n",
      "Estimate stats:  0.01947193648198342 0.4937618758594218\n",
      "GT stats:  0.0 1.0\n",
      "Estimate stats:  0.017670674062506886 0.6620452603288853\n",
      "GT stats:  0.0 1.0\n",
      "Estimate stats:  0.014334007690854689 0.3859785610287073\n",
      "GT stats:  0.0 1.0\n",
      "Estimate stats:  0.01604063902431152 0.3222828871956728\n",
      "GT stats:  0.0 1.0\n",
      "Estimate stats:  0.01447527181357311 0.8055074241831773\n",
      "GT stats:  0.0 1.0\n",
      "Estimate stats:  0.017512893162627163 0.5072364191998318\n",
      "GT stats:  0.0 1.0\n",
      "Estimate stats:  0.017407380296719843 0.4270921642608708\n",
      "GT stats:  0.0 1.0\n",
      "Estimate stats:  0.01750079104852209 0.41462301999989604\n",
      "GT stats:  0.0 1.0\n",
      "Estimate stats:  0.012915101545471486 0.4382793109172328\n",
      "GT stats:  0.0 1.0\n",
      "Estimate stats:  0.01403277731241337 0.442942673774235\n",
      "GT stats:  0.0 1.0\n",
      "Estimate stats:  0.013323701875118221 0.45527398996158386\n",
      "GT stats:  0.0 1.0\n",
      "Estimate stats:  0.01977418829746358 0.5384829948482834\n",
      "GT stats:  0.0 1.0\n",
      "Estimate stats:  0.019391994871849838 0.5796044274355502\n",
      "GT stats:  0.0 1.0\n",
      "Estimate stats:  0.018853310729066153 0.6676825973750937\n",
      "GT stats:  0.0 1.0\n",
      "Estimate stats:  0.017599677428769445 0.4191403663530512\n",
      "GT stats:  0.0 1.0\n",
      "Estimate stats:  0.020150516802182716 0.7042807160931354\n",
      "GT stats:  0.0 1.0\n",
      "Estimate stats:  0.014511952199761202 0.5643732998425885\n"
     ]
    }
   ],
   "source": [
    "# Can add jacob's folder here too\n",
    "version = 'v2' # 'v2', no joint\n",
    "root = '/data/vision/torralba/virtualhome/realvirtualhome/realvirtualhome/totem/totems/notebooks/detection_results_patch/'\n",
    "lpips_folder = os.path.join(root, f'{version}_LPIPS_30x30_results')\n",
    "l1_folder = os.path.join(root, f'{version}_L1_30x30_results')\n",
    "jacob_folder = os.path.join(root, 'jacob_30x30_results')\n",
    "\n",
    "# folder = lpips_folder\n",
    "# folder = l1_folder\n",
    "folder = jacob_folder\n",
    "fnames = os.listdir(folder)\n",
    "fnames = sorted([fname for fname in fnames if 'result.npy' in fname])\n",
    "\n",
    "normalize = False\n",
    "scores = []\n",
    "pcts = []\n",
    "for fname in fnames:\n",
    "    if 'jacob' in folder:\n",
    "        score, pct = get_scores_jacob(folder, fname, version, normalize=normalize)\n",
    "    else:\n",
    "        score, pct = get_scores(folder, fname, version, normalize=normalize)\n",
    "    scores.append(score)\n",
    "    pcts.append(pct)\n",
    "#     break"
   ]
  },
  {
   "cell_type": "code",
   "execution_count": 21,
   "id": "premier-spotlight",
   "metadata": {},
   "outputs": [
    {
     "name": "stdout",
     "output_type": "stream",
     "text": [
      "(0.0, 15, 0.9458435850099212)\n"
     ]
    }
   ],
   "source": [
    "# LPIPS, v1\n",
    "print(average_mAP(scores, pcts))"
   ]
  },
  {
   "cell_type": "code",
   "execution_count": 23,
   "id": "accredited-kazakhstan",
   "metadata": {},
   "outputs": [
    {
     "name": "stdout",
     "output_type": "stream",
     "text": [
      "(0.0, 15, 0.9543758846844045)\n"
     ]
    }
   ],
   "source": [
    "# LPIPS, v2\n",
    "print(average_mAP(scores, pcts))"
   ]
  },
  {
   "cell_type": "code",
   "execution_count": 26,
   "id": "processed-inside",
   "metadata": {},
   "outputs": [
    {
     "name": "stdout",
     "output_type": "stream",
     "text": [
      "(0.0, 15, 0.9606300921019216)\n"
     ]
    }
   ],
   "source": [
    "# L1, v1\n",
    "print(average_mAP(scores, pcts))"
   ]
  },
  {
   "cell_type": "code",
   "execution_count": 29,
   "id": "sonic-floor",
   "metadata": {},
   "outputs": [
    {
     "name": "stdout",
     "output_type": "stream",
     "text": [
      "(0.0, 15, 0.9442340327567703)\n"
     ]
    }
   ],
   "source": [
    "# L1, v2\n",
    "print(average_mAP(scores, pcts))"
   ]
  },
  {
   "cell_type": "code",
   "execution_count": 10,
   "id": "domestic-prince",
   "metadata": {},
   "outputs": [
    {
     "name": "stdout",
     "output_type": "stream",
     "text": [
      "[0.6390916481181224, 0.6676531160277086, 0.6774641564851147, 0.9150047295993169, 0.6690342409767661, 0.9368103066101485, 0.7465563794366582, 0.2514541386798701, 0.9705580497697417, 0.8174953259227333, 0.5840206962868228, 0.9391945067290588, 0.9429391214072151, 0.9210526981079301, 0.9163734990001847, 0.8147731659838913, 0.7910579063563843, 0.912486809287005, 0.9054628127640303, 0.8943676470970949, 0.8995179990311791]\n",
      "(0.0, 21, 0.8005889977941417)\n"
     ]
    }
   ],
   "source": [
    "# Jacob\n",
    "print(average_mAP(scores, pcts))"
   ]
  },
  {
   "cell_type": "markdown",
   "id": "turkish-alexander",
   "metadata": {},
   "source": [
    "## Human CAF only "
   ]
  },
  {
   "cell_type": "code",
   "execution_count": 69,
   "id": "lightweight-camel",
   "metadata": {},
   "outputs": [],
   "source": [
    "# Can add jacob's folder here too\n",
    "version = 'v2' # 'v2', no joint\n",
    "root = '/data/vision/torralba/virtualhome/realvirtualhome/realvirtualhome/totem/totems/notebooks/detection_results_CAF/'\n",
    "lpips_folder = os.path.join(root, f'{version}_LPIPS_30x30_results')\n",
    "l1_folder = os.path.join(root, f'{version}_L1_30x30_results')\n",
    "jacob_folder = os.path.join(root, 'jacob_30x30_results')\n",
    "\n",
    "# folder = lpips_folder\n",
    "# folder = l1_folder\n",
    "folder = jacob_folder\n",
    "fnames = os.listdir(folder)\n",
    "fnames = sorted([fname for fname in fnames if 'result.npy' in fname])\n",
    "\n",
    "normalize = False\n",
    "scores = []\n",
    "pcts = []\n",
    "for fname in fnames:\n",
    "    if 'jacob' in folder:\n",
    "        score, pct = get_scores_jacob(folder, fname, version, normalize=normalize)\n",
    "    else:\n",
    "        score, pct = get_scores(folder, fname, version, normalize=normalize)\n",
    "    scores.append(score)\n",
    "    pcts.append(pct)\n",
    "#     break"
   ]
  },
  {
   "cell_type": "code",
   "execution_count": 62,
   "id": "atmospheric-cherry",
   "metadata": {},
   "outputs": [
    {
     "name": "stdout",
     "output_type": "stream",
     "text": [
      "(0.0, 7, 0.6663276625484571)\n"
     ]
    }
   ],
   "source": [
    "# LPIPS, v1\n",
    "print(average_mAP(scores, pcts))"
   ]
  },
  {
   "cell_type": "code",
   "execution_count": 68,
   "id": "focal-conflict",
   "metadata": {},
   "outputs": [
    {
     "name": "stdout",
     "output_type": "stream",
     "text": [
      "(0.0, 7, 0.4892581142591263)\n"
     ]
    }
   ],
   "source": [
    "# LPIPS, v2\n",
    "print(average_mAP(scores, pcts))"
   ]
  },
  {
   "cell_type": "code",
   "execution_count": 64,
   "id": "advance-export",
   "metadata": {},
   "outputs": [
    {
     "name": "stdout",
     "output_type": "stream",
     "text": [
      "(0.0, 7, 0.5542600448963481)\n"
     ]
    }
   ],
   "source": [
    "# L1, v1\n",
    "print(average_mAP(scores, pcts))"
   ]
  },
  {
   "cell_type": "code",
   "execution_count": 66,
   "id": "looking-sailing",
   "metadata": {},
   "outputs": [
    {
     "name": "stdout",
     "output_type": "stream",
     "text": [
      "(0.0, 7, 0.4851470247974229)\n"
     ]
    }
   ],
   "source": [
    "# L1, v2\n",
    "print(average_mAP(scores, pcts))"
   ]
  },
  {
   "cell_type": "code",
   "execution_count": 70,
   "id": "indie-charles",
   "metadata": {},
   "outputs": [
    {
     "name": "stdout",
     "output_type": "stream",
     "text": [
      "(0.0, 7, 0.036509224386516444)\n"
     ]
    }
   ],
   "source": [
    "# Jacob\n",
    "print(average_mAP(scores, pcts))"
   ]
  },
  {
   "cell_type": "markdown",
   "id": "exposed-bottle",
   "metadata": {},
   "source": [
    "## Use all manipulations"
   ]
  },
  {
   "cell_type": "code",
   "execution_count": 51,
   "id": "greatest-victim",
   "metadata": {
    "scrolled": true
   },
   "outputs": [
    {
     "name": "stdout",
     "output_type": "stream",
     "text": [
      "0.7725146\n",
      "0.6694083\n",
      "0.6694083\n",
      "0.77363425\n",
      "0.6694083\n",
      "0.76344854\n",
      "0.6531406\n",
      "0.65340996\n",
      "0.6531406\n",
      "0.7415296\n",
      "0.6531406\n",
      "0.9781784\n",
      "0.78097236\n",
      "0.99702936\n",
      "0.78097236\n",
      "0.8495859\n",
      "0.87052894\n",
      "0.8496084\n",
      "0.7109546\n",
      "0.6223849\n",
      "0.6223514\n",
      "0.75098544\n",
      "0.7236698\n",
      "0.79600424\n",
      "0.7923978\n"
     ]
    }
   ],
   "source": [
    "# Can add jacob's folder here too\n",
    "version = 'v2' # 'v2', no joint\n",
    "root = '/data/vision/torralba/virtualhome/realvirtualhome/realvirtualhome/totem/totems/notebooks/detection_results/'\n",
    "lpips_folder = os.path.join(root, f'{version}_LPIPS_30x30_results')\n",
    "l1_folder = os.path.join(root, f'{version}_L1_30x30_results')\n",
    "jacob_folder = os.path.join(root, 'jacob_30x30_results')\n",
    "\n",
    "# folder = jacob_folder\n",
    "folder = lpips_folder\n",
    "fnames = os.listdir(folder)\n",
    "fnames = sorted([fname for fname in fnames if 'result.npy' in fname])\n",
    "\n",
    "normalize = False\n",
    "scores = []\n",
    "pcts = []\n",
    "for fname in fnames:\n",
    "    if 'jacob' in folder:\n",
    "        score, pct = get_scores_jacob(folder, fname, version, normalize=normalize)\n",
    "    else:\n",
    "        score, pct = get_scores(folder, fname, version, normalize=normalize)\n",
    "    scores.append(score)\n",
    "    pcts.append(pct)\n",
    "#     break"
   ]
  },
  {
   "cell_type": "code",
   "execution_count": 27,
   "id": "endless-brand",
   "metadata": {},
   "outputs": [
    {
     "name": "stdout",
     "output_type": "stream",
     "text": [
      "(0.0, 23, 0.25119826018633495)\n",
      "(1.0, 18, 0.23120224469621042)\n",
      "(2.0, 10, 0.39647633595262505)\n",
      "(3.0, 8, 0.4900794105280558)\n",
      "(5.0, 7, 0.5542600448963481)\n",
      "(10.0, 2, 0.2137785960080709)\n"
     ]
    }
   ],
   "source": [
    "# L1, v1\n",
    "print(average_mAP(scores, pcts, thres=0.0))\n",
    "print(average_mAP(scores, pcts, thres=1.0))\n",
    "print(average_mAP(scores, pcts, thres=2.0))\n",
    "print(average_mAP(scores, pcts, thres=3.0))\n",
    "print(average_mAP(scores, pcts, thres=5.0))\n",
    "print(average_mAP(scores, pcts, thres=10.0))\n"
   ]
  },
  {
   "cell_type": "code",
   "execution_count": 31,
   "id": "documentary-newton",
   "metadata": {},
   "outputs": [
    {
     "name": "stdout",
     "output_type": "stream",
     "text": [
      "(0.0, 21, 0.17552704005092737)\n",
      "(1.0, 16, 0.22880193687103967)\n",
      "(2.0, 14, 0.25538954860985)\n",
      "(3.0, 10, 0.3504585852138792)\n",
      "(5.0, 7, 0.4851470247974229)\n",
      "(10.0, 6, 0.5498798846052378)\n"
     ]
    }
   ],
   "source": [
    "# L1, v2\n",
    "print(average_mAP(scores, pcts, thres=0.0))\n",
    "print(average_mAP(scores, pcts, thres=1.0))\n",
    "print(average_mAP(scores, pcts, thres=2.0))\n",
    "print(average_mAP(scores, pcts, thres=3.0))\n",
    "print(average_mAP(scores, pcts, thres=5.0))\n",
    "print(average_mAP(scores, pcts, thres=10.0))\n"
   ]
  },
  {
   "cell_type": "code",
   "execution_count": 29,
   "id": "medical-sheffield",
   "metadata": {},
   "outputs": [
    {
     "name": "stdout",
     "output_type": "stream",
     "text": [
      "(0.0, 23, 0.34991703395828383)\n",
      "(1.0, 18, 0.36687235886173725)\n",
      "(2.0, 10, 0.5440345043515888)\n",
      "(3.0, 8, 0.6475023907353621)\n",
      "(5.0, 7, 0.6663276625484571)\n",
      "(10.0, 2, 0.6970371696314156)\n"
     ]
    }
   ],
   "source": [
    "# LPIPS, v1\n",
    "print(average_mAP(scores, pcts, thres=0.0))\n",
    "print(average_mAP(scores, pcts, thres=1.0))\n",
    "print(average_mAP(scores, pcts, thres=2.0))\n",
    "print(average_mAP(scores, pcts, thres=3.0))\n",
    "print(average_mAP(scores, pcts, thres=5.0))\n",
    "print(average_mAP(scores, pcts, thres=10.0))\n"
   ]
  },
  {
   "cell_type": "code",
   "execution_count": 44,
   "id": "funny-marble",
   "metadata": {},
   "outputs": [
    {
     "name": "stdout",
     "output_type": "stream",
     "text": [
      "(0.0, 21, 0.2139866445842036)\n",
      "(1.0, 16, 0.2765875907773816)\n",
      "(2.0, 14, 0.31273856334396893)\n",
      "(3.0, 10, 0.4059557187557862)\n",
      "(5.0, 7, 0.4892581142591263)\n",
      "(10.0, 6, 0.5088670302509949)\n"
     ]
    }
   ],
   "source": [
    "# LPIPS, v2\n",
    "print(average_mAP(scores, pcts, thres=0.0))\n",
    "print(average_mAP(scores, pcts, thres=1.0))\n",
    "print(average_mAP(scores, pcts, thres=2.0))\n",
    "print(average_mAP(scores, pcts, thres=3.0))\n",
    "print(average_mAP(scores, pcts, thres=5.0))\n",
    "print(average_mAP(scores, pcts, thres=10.0))\n"
   ]
  },
  {
   "cell_type": "code",
   "execution_count": 47,
   "id": "collaborative-river",
   "metadata": {},
   "outputs": [
    {
     "name": "stdout",
     "output_type": "stream",
     "text": [
      "(0.0, 25, 0.02288460517930116)\n",
      "(1.0, 12, 0.03173415695148323)\n",
      "(2.0, 8, 0.042437576790399445)\n",
      "(3.0, 7, 0.044713810364436606)\n",
      "(5.0, 2, 0.039190868617917075)\n"
     ]
    }
   ],
   "source": [
    "# Jacob, with normalize\n",
    "print(average_mAP(scores, pcts, thres=0.0))\n",
    "print(average_mAP(scores, pcts, thres=1.0))\n",
    "print(average_mAP(scores, pcts, thres=2.0))\n",
    "print(average_mAP(scores, pcts, thres=3.0))\n",
    "print(average_mAP(scores, pcts, thres=5.0))\n"
   ]
  },
  {
   "cell_type": "code",
   "execution_count": 50,
   "id": "bottom-radical",
   "metadata": {},
   "outputs": [
    {
     "name": "stdout",
     "output_type": "stream",
     "text": [
      "(0.0, 25, 0.02288460517930116)\n",
      "(1.0, 12, 0.03173415695148323)\n",
      "(2.0, 8, 0.042437576790399445)\n",
      "(3.0, 7, 0.044713810364436606)\n",
      "(5.0, 2, 0.039190868617917075)\n"
     ]
    }
   ],
   "source": [
    "# Jacob, without normalize\n",
    "print(average_mAP(scores, pcts, thres=0.0))\n",
    "print(average_mAP(scores, pcts, thres=1.0))\n",
    "print(average_mAP(scores, pcts, thres=2.0))\n",
    "print(average_mAP(scores, pcts, thres=3.0))\n",
    "print(average_mAP(scores, pcts, thres=5.0))\n"
   ]
  },
  {
   "cell_type": "code",
   "execution_count": null,
   "id": "described-delicious",
   "metadata": {},
   "outputs": [],
   "source": []
  },
  {
   "cell_type": "code",
   "execution_count": 82,
   "id": "statutory-offense",
   "metadata": {},
   "outputs": [],
   "source": [
    "from datetime import datetime\n",
    "\n",
    "version = datetime.now().strftime(\"%Y_%m_%d-%I_%M_%S_%p\")\n",
    "data = {'paths': all_paths, 'lpips_mAPs': lpips_scores, 'l1_mAPs': l1_scores, 'manip_pct': manip_pctg, \n",
    "        'README': stats}\n",
    "\n",
    "np.save(f\"detect_results_{version}.npy\", data)"
   ]
  },
  {
   "cell_type": "code",
   "execution_count": 85,
   "id": "rough-advocacy",
   "metadata": {},
   "outputs": [],
   "source": [
    "def average_mAP(path, thres=0.0):\n",
    "    data = np.load(path, allow_pickle=True).item()\n",
    "    lpips_scores = data['lpips_mAPs']\n",
    "    l1_scores = data['l1_mAPs']\n",
    "    manip_pcts = data['manip_pct']\n",
    "    manip_paths = data['paths']\n",
    "    \n",
    "    lpips_scores_filter = []\n",
    "    l1_scores_filter = []\n",
    "    manip_paths_filter = []\n",
    "    for (lpips_score, l1_score, manip_pct, manip_path) in zip(lpips_scores, l1_scores, manip_pcts, manip_paths):\n",
    "        if manip_pct > thres:\n",
    "            lpips_scores_filter.append(lpips_score)\n",
    "            l1_scores_filter.append(l1_score)\n",
    "            manip_paths_filter.append(manip_path)\n",
    "    return thres, np.mean(lpips_scores_filter), np.mean(l1_scores_filter), len(manip_paths_filter)"
   ]
  },
  {
   "cell_type": "code",
   "execution_count": 86,
   "id": "dirty-matthew",
   "metadata": {},
   "outputs": [
    {
     "name": "stdout",
     "output_type": "stream",
     "text": [
      "(0.0, 0.26218840399472165, 0.19844168946764051, 44)\n",
      "(1.0, 0.30831585674703205, 0.2264995113783314, 34)\n",
      "(2.0, 0.4118813702157362, 0.3084099307261024, 24)\n",
      "(3.0, 0.5214328705220808, 0.4051904764228639, 18)\n"
     ]
    }
   ],
   "source": [
    "# Compute average mAP for different manipulation size (% manipulated pixels in protexted area)\n",
    "\n",
    "print( '% threshold, average lpips mAP, average l1 mAP, # images')\n",
    "print(average_mAP(f\"detect_results_{version}.npy\", thres=0.0))\n",
    "print(average_mAP(f\"detect_results_{version}.npy\", thres=1.0))\n",
    "print(average_mAP(f\"detect_results_{version}.npy\", thres=2.0))\n",
    "print(average_mAP(f\"detect_results_{version}.npy\", thres=3.0))\n"
   ]
  },
  {
   "cell_type": "code",
   "execution_count": 9,
   "id": "lined-january",
   "metadata": {},
   "outputs": [],
   "source": []
  }
 ],
 "metadata": {
  "kernelspec": {
   "display_name": "Python 3",
   "language": "python",
   "name": "python3"
  },
  "language_info": {
   "codemirror_mode": {
    "name": "ipython",
    "version": 3
   },
   "file_extension": ".py",
   "mimetype": "text/x-python",
   "name": "python",
   "nbconvert_exporter": "python",
   "pygments_lexer": "ipython3",
   "version": "3.6.9"
  }
 },
 "nbformat": 4,
 "nbformat_minor": 5
}
