{
 "cells": [
  {
   "cell_type": "code",
   "execution_count": 1,
   "id": "attractive-republic",
   "metadata": {},
   "outputs": [],
   "source": [
    "# Common imports\n",
    "import os\n",
    "import imageio\n",
    "import numpy as np\n",
    "import cv2\n",
    "from sklearn import metrics\n",
    "import matplotlib.pyplot as plt\n",
    "%matplotlib inline\n",
    "plt.rcParams[\"figure.figsize\"] = (16, 8)"
   ]
  },
  {
   "cell_type": "code",
   "execution_count": 2,
   "id": "measured-hungary",
   "metadata": {},
   "outputs": [],
   "source": [
    "# Common parameters\n",
    "grid_size = 30\n",
    "patch_size = 64\n",
    "global_y_valid = 534\n",
    "# Resolution before was 1412x913\n",
    "# Resolution current is \n",
    "# Forensic Graph: 1024x682\n",
    "# ManTraNet: 1024x682\n",
    "# CAT-Net: 256x172\n",
    "# [Todo] compute y_valid"
   ]
  },
  {
   "cell_type": "code",
   "execution_count": 33,
   "id": "explicit-stations",
   "metadata": {},
   "outputs": [],
   "source": [
    "# Helper functions\n",
    "def get_pred_aggregate(grid_size, patch_size, im, im_label, return_labels=False, manip=False):\n",
    "    '''\n",
    "        Convert pixel-wise prediction map to a nxn map\n",
    "    '''\n",
    "    im_h, im_w, _ = im.shape\n",
    "    pred_aggregate = np.empty((grid_size, grid_size))\n",
    "    for idx_i, i in enumerate(np.linspace(0, im_h - patch_size, grid_size).astype(int)):\n",
    "        for idx_j, j in enumerate(np.linspace(0, im_w - patch_size, grid_size).astype(int)):\n",
    "            pred_aggregate[idx_i, idx_j] = np.mean(im[i:i+patch_size, j:j+patch_size, :].astype(float))/255\n",
    "    return pred_aggregate\n",
    "\n",
    "    \n",
    "def get_mAP_splice(y_valid, out, fname):\n",
    "    \n",
    "    # load manip mask\n",
    "    manip_mask_dir = '/data/vision/torralba/virtualhome/realvirtualhome/realvirtualhome/totem/totems-misc/data/content-aware-v2c-div4-crop/'\n",
    "    manip_mask_fname = fname[9:45]+'.png'\n",
    "    manip_mask_path = os.path.join(manip_mask_dir, manip_mask_fname)\n",
    "    h, w = out.shape\n",
    "    # Make it binary\n",
    "    manip_label = (cv2.imread(manip_mask_path)[:global_y_valid, :, 0] == 255).astype('uint8')\n",
    "    manip_label = cv2.resize(manip_label, (w, h), cv2.INTER_NEAREST)\n",
    "    manip_label = manip_label.astype(out.dtype)\n",
    "#     manip_label = manip_label[100:, 200:800]\n",
    "#     out = out[100:, 200:800]\n",
    "    gt = manip_label.ravel()\n",
    "    estimate = out.ravel()\n",
    "    \n",
    "#     print('GT stats: ', gt.min(), gt.max())\n",
    "#     print('Estimate stats: ', estimate.min(), estimate.max())\n",
    "    score = metrics.average_precision_score(gt, estimate)    \n",
    "    return score\n",
    "\n",
    "def get_mAP_color(y_valid, out, fname):\n",
    "    \n",
    "    # load manip mask\n",
    "    manip_dir = '/data/vision/phillipi/gan-training/totem/resources/totems/data/manip_patch/'\n",
    "    manip_mask_path = os.path.join(manip_dir, fname[:11]+'mask.png')\n",
    "    h, w = out.shape\n",
    "    # Make it binary\n",
    "    manip_label = (cv2.imread(manip_mask_path)[:global_y_valid, :, 0] == 255).astype('uint8')\n",
    "#     print(manip_label.shape)\n",
    "#     print(out.shape)\n",
    "    manip_label = cv2.resize(manip_label, (w, h), cv2.INTER_NEAREST)\n",
    "    manip_label = manip_label.astype(out.dtype)\n",
    "    \n",
    "    gt = manip_label.ravel()\n",
    "    estimate = out.ravel()\n",
    "#     print('GT stats: ', gt.min(), gt.max())\n",
    "#     print('Estimate stats: ', estimate.min(), estimate.max())\n",
    "    score = metrics.average_precision_score(gt, estimate)    \n",
    "    return score, manip_label, out\n",
    "\n",
    "def get_mAP_CAF(y_valid, out, fname):\n",
    "    \n",
    "    # load manip mask\n",
    "    manip_mask_dir = '/data/vision/torralba/virtualhome/realvirtualhome/realvirtualhome/totem/totems-misc/data/content-aware-v3-div4-crop/'\n",
    "    manip_mask_fname = fname[:-4]+'_mask.png'\n",
    "    manip_mask_path = os.path.join(manip_mask_dir, manip_mask_fname)\n",
    "    h, w = out.shape\n",
    "    # Make it binary\n",
    "    manip_label = (cv2.imread(manip_mask_path)[:global_y_valid, :, 0] == 255).astype('uint8')\n",
    "    manip_label = cv2.resize(manip_label, (w, h), cv2.INTER_NEAREST)\n",
    "    manip_label = manip_label.astype(out.dtype)\n",
    "#     manip_label = manip_label[100:, 200:800]\n",
    "#     out = out[100:, 200:800]\n",
    "    gt = manip_label.ravel()\n",
    "    estimate = out.ravel()\n",
    "    \n",
    "#     print('GT stats: ', gt.min(), gt.max())\n",
    "#     print('Estimate stats: ', estimate.min(), estimate.max())\n",
    "    score = metrics.average_precision_score(gt, estimate)    \n",
    "    return score\n",
    "  "
   ]
  },
  {
   "cell_type": "markdown",
   "id": "proper-maximum",
   "metadata": {},
   "source": [
    "### Forensic Graph, splice (no undistort+crop)"
   ]
  },
  {
   "cell_type": "code",
   "execution_count": 51,
   "id": "dominican-penalty",
   "metadata": {},
   "outputs": [],
   "source": [
    "folder = '/data/vision/phillipi/cortex/code/forensics-baseline/results/forensic-graph/localization/splice'\n",
    "fnames = sorted(os.listdir(folder))"
   ]
  },
  {
   "cell_type": "code",
   "execution_count": 52,
   "id": "expected-stress",
   "metadata": {},
   "outputs": [],
   "source": [
    "curr_width = 1024\n",
    "curr_patch_size = round(patch_size/1440.*curr_width)\n",
    "curr_y_valid = round(global_y_valid/1440.*curr_width)\n",
    "curr_height = round(960/1440.*curr_width)"
   ]
  },
  {
   "cell_type": "code",
   "execution_count": 53,
   "id": "political-throat",
   "metadata": {},
   "outputs": [],
   "source": [
    "scores = []\n",
    "for fname in fnames:\n",
    "    pred = imageio.imread(os.path.join(folder, fname))[:curr_y_valid, ...]\n",
    "    pred_aggregate = get_pred_aggregate(grid_size, curr_patch_size, pred, None, return_labels=False, manip=False)\n",
    "#     # This line loads Jacob's results\n",
    "#     pred_aggregate = np.load(f\"/data/vision/torralba/virtualhome/realvirtualhome/realvirtualhome/totem/totems/notebooks/detection_results_splice/jacob_30x30_results/{fname[:-4]+'_result.npy'}\")\n",
    "#     # This line loads our joint+L1 results\n",
    "#     path = f\"/data/vision/torralba/virtualhome/realvirtualhome/realvirtualhome/totem/totems/notebooks/detection_results_splice/v1_L1_30x30_results/{fname[:-4]+'_result.npy'}\"\n",
    "#     if not os.path.exists(path):\n",
    "#         continue\n",
    "#     pred_aggregate = np.load(path)\n",
    "    pred_aggregate_upsample = cv2.resize(pred_aggregate, (curr_width, curr_y_valid), cv2.INTER_CUBIC)\n",
    "    # plt.imshow(pred_aggregate_upsample, cmap='jet')\n",
    "    scores.append(get_mAP_splice(curr_y_valid, pred_aggregate_upsample, fname))"
   ]
  },
  {
   "cell_type": "code",
   "execution_count": 54,
   "id": "bottom-legislature",
   "metadata": {},
   "outputs": [
    {
     "name": "stdout",
     "output_type": "stream",
     "text": [
      "mAP is:  0.04588093630405767 10\n"
     ]
    }
   ],
   "source": [
    "print(\"mAP is: \", np.mean(scores), len(scores))"
   ]
  },
  {
   "cell_type": "code",
   "execution_count": 55,
   "id": "comic-taiwan",
   "metadata": {},
   "outputs": [],
   "source": [
    "scores = []\n",
    "for fname in fnames:\n",
    "     # This line loads Jacob's results\n",
    "    pred_aggregate = np.load(f\"/data/vision/torralba/virtualhome/realvirtualhome/realvirtualhome/totem/totems-misc/notebooks/detection_results_splice/jacob_30x30_results/{fname[:-4]+'_result.npy'}\")\n",
    "    pred_aggregate_upsample = cv2.resize(pred_aggregate, (curr_width, curr_height), cv2.INTER_CUBIC)[:curr_y_valid, ...]\n",
    "    scores.append(get_mAP_splice(curr_y_valid, pred_aggregate_upsample, fname))"
   ]
  },
  {
   "cell_type": "code",
   "execution_count": 56,
   "id": "secondary-madonna",
   "metadata": {
    "scrolled": true
   },
   "outputs": [
    {
     "name": "stdout",
     "output_type": "stream",
     "text": [
      "Jacob's mAP is:  0.037 10\n"
     ]
    }
   ],
   "source": [
    "# Table 2, Row 1, Column 2\n",
    "print(\"Jacob's mAP is: \", round(np.mean(scores), 3), len(scores))"
   ]
  },
  {
   "cell_type": "markdown",
   "id": "martial-jamaica",
   "metadata": {},
   "source": [
    "### ManTraNet, splice (no undistort+crop)"
   ]
  },
  {
   "cell_type": "code",
   "execution_count": 57,
   "id": "endangered-tenant",
   "metadata": {},
   "outputs": [],
   "source": [
    "folder = '/data/vision/phillipi/cortex/code/forensics-baseline/results/ManTraNet/localization/splice'\n",
    "fnames = sorted(os.listdir(folder))\n",
    "fnames = [fname for fname in fnames if not fname.startswith('.')]"
   ]
  },
  {
   "cell_type": "code",
   "execution_count": 58,
   "id": "documented-battle",
   "metadata": {},
   "outputs": [],
   "source": [
    "curr_width = 1024\n",
    "curr_patch_size = round(patch_size/1440.*curr_width)\n",
    "curr_y_valid = round(global_y_valid/1440.*curr_width)\n",
    "curr_height = round(960/1440.*curr_width)"
   ]
  },
  {
   "cell_type": "code",
   "execution_count": 59,
   "id": "graphic-election",
   "metadata": {},
   "outputs": [],
   "source": [
    "scores = []\n",
    "for fname in fnames:\n",
    "    pred = imageio.imread(os.path.join(folder, fname))[:curr_y_valid, ...]\n",
    "    pred_aggregate = get_pred_aggregate(grid_size, curr_patch_size, pred, None, return_labels=False, manip=False)\n",
    "#     # This line loads Jacob's results\n",
    "#     pred_aggregate = np.load(f\"/data/vision/torralba/virtualhome/realvirtualhome/realvirtualhome/totem/totems/notebooks/detection_results_splice/jacob_30x30_results/{fname[:-4]+'_result.npy'}\")\n",
    "#     # This line loads our joint+L1 results\n",
    "#     path = f\"/data/vision/torralba/virtualhome/realvirtualhome/realvirtualhome/totem/totems/notebooks/detection_results_splice/v1_L1_30x30_results/{fname[:-4]+'_result.npy'}\"\n",
    "#     if not os.path.exists(path):\n",
    "#         continue\n",
    "#     pred_aggregate = np.load(path)\n",
    "    pred_aggregate_upsample = cv2.resize(pred_aggregate, (curr_width, curr_y_valid), cv2.INTER_CUBIC)\n",
    "    # plt.imshow(pred_aggregate_upsample, cmap='jet')\n",
    "    scores.append(get_mAP_splice(curr_y_valid, pred_aggregate_upsample, fname))"
   ]
  },
  {
   "cell_type": "code",
   "execution_count": 60,
   "id": "toxic-baptist",
   "metadata": {},
   "outputs": [
    {
     "name": "stdout",
     "output_type": "stream",
     "text": [
      "mAP is:  0.151 10\n"
     ]
    }
   ],
   "source": [
    "# Table 2, Row 2, Column 2\n",
    "print(\"mAP is: \",round(np.mean(scores), 3), len(scores))"
   ]
  },
  {
   "cell_type": "markdown",
   "id": "working-literature",
   "metadata": {},
   "source": [
    "### CAT-Net, splice (no undistort+crop)"
   ]
  },
  {
   "cell_type": "code",
   "execution_count": 270,
   "id": "thorough-calculator",
   "metadata": {},
   "outputs": [
    {
     "name": "stdout",
     "output_type": "stream",
     "text": [
      "['JT8A8283_JT8A8292_content_aware_fill_002_mask.png', 'JT8A8283_JT8A8299_content_aware_fill_001_mask.png', 'JT8A8287_JT8A8291_content_aware_fill_001_mask.png', 'JT8A8287_JT8A8297_content_aware_fill_001_mask.png', 'JT8A8290_JT8A8291_content_aware_fill_001_mask.png', 'JT8A8290_JT8A8293_content_aware_fill_001_mask.png', 'JT8A8293_JT8A8291_content_aware_fill_001_mask.png', 'JT8A8293_JT8A8299_content_aware_fill_001_mask.png', 'JT8A8297_JT8A8291_content_aware_fill_001_mask.png', 'JT8A8299_JT8A8292_content_aware_fill_002_mask.png']\n"
     ]
    }
   ],
   "source": [
    "folder = '/data/vision/phillipi/cortex/code/forensics-baseline/results/CAT-Net/localization/splice'\n",
    "fnames = sorted(os.listdir(folder))\n",
    "fnames = [fname for fname in fnames if not fname.startswith('.')]\n",
    "print(fnames)"
   ]
  },
  {
   "cell_type": "code",
   "execution_count": 271,
   "id": "important-intersection",
   "metadata": {},
   "outputs": [
    {
     "name": "stdout",
     "output_type": "stream",
     "text": [
      "11 95\n"
     ]
    }
   ],
   "source": [
    "curr_width = 256\n",
    "curr_patch_size = round(patch_size/1440.*curr_width)\n",
    "curr_y_valid = round(global_y_valid/1440.*curr_width)\n",
    "curr_height = round(960/1440.*curr_width)\n",
    "print(curr_patch_size, curr_y_valid)\n"
   ]
  },
  {
   "cell_type": "code",
   "execution_count": 274,
   "id": "political-throat",
   "metadata": {},
   "outputs": [],
   "source": [
    "scores = []\n",
    "for fname in fnames:\n",
    "    pred = imageio.imread(os.path.join(folder, fname))[:curr_y_valid, ...]\n",
    "    pred_aggregate = get_pred_aggregate(grid_size, curr_patch_size, pred, None, return_labels=False, manip=False)\n",
    "    pred_aggregate_upsample = cv2.resize(pred_aggregate, (curr_width, curr_y_valid), cv2.INTER_CUBIC)\n",
    "    # plt.imshow(pred_aggregate_upsample, cmap='jet')\n",
    "#     print(pred_aggregate_upsample.sum())\n",
    "    scores.append(get_mAP_splice(curr_y_valid, pred_aggregate_upsample, fname))"
   ]
  },
  {
   "cell_type": "code",
   "execution_count": 275,
   "id": "amber-approach",
   "metadata": {},
   "outputs": [
    {
     "name": "stdout",
     "output_type": "stream",
     "text": [
      "mAP is:  0.23668748565648906 10\n"
     ]
    }
   ],
   "source": [
    "print(\"mAP is: \", np.mean(scores), len(scores))"
   ]
  },
  {
   "cell_type": "code",
   "execution_count": null,
   "id": "other-spyware",
   "metadata": {},
   "outputs": [],
   "source": []
  },
  {
   "cell_type": "markdown",
   "id": "looking-purple",
   "metadata": {},
   "source": [
    "### Forensic Graph, color patch"
   ]
  },
  {
   "cell_type": "code",
   "execution_count": 43,
   "id": "indirect-heritage",
   "metadata": {},
   "outputs": [],
   "source": [
    "folder = '/data/vision/phillipi/cortex/code/forensics-baseline/results/forensic-graph/localization/patch'\n",
    "fnames = sorted(os.listdir(folder))\n",
    "fnames = [fname for fname in fnames if not fname.startswith('.')]"
   ]
  },
  {
   "cell_type": "code",
   "execution_count": 44,
   "id": "dominican-pickup",
   "metadata": {},
   "outputs": [],
   "source": [
    "curr_width = 1024\n",
    "curr_patch_size = round(patch_size/1412.*curr_width)\n",
    "curr_y_valid = round(global_y_valid/1412.*curr_width)\n",
    "curr_height = round(913/1412.*curr_width)"
   ]
  },
  {
   "cell_type": "code",
   "execution_count": 160,
   "id": "functional-entity",
   "metadata": {},
   "outputs": [],
   "source": [
    "scores = []\n",
    "for fname in fnames:\n",
    "    pred = imageio.imread(os.path.join(folder, fname))[:curr_y_valid, ...]\n",
    "    pred_aggregate = get_pred_aggregate(grid_size, curr_patch_size, pred, None, return_labels=False, manip=False)\n",
    "#     # This line loads Jacob's results\n",
    "#     pred_aggregate = np.load(f\"/data/vision/torralba/virtualhome/realvirtualhome/realvirtualhome/totem/totems/notebooks/detection_results_splice/jacob_30x30_results/{fname[:-4]+'_result.npy'}\")\n",
    "#     # This line loads our joint+L1 results\n",
    "#     path = f\"/data/vision/torralba/virtualhome/realvirtualhome/realvirtualhome/totem/totems/notebooks/detection_results_splice/v1_L1_30x30_results/{fname[:-4]+'_result.npy'}\"\n",
    "#     if not os.path.exists(path):\n",
    "#         continue\n",
    "#     pred_aggregate = np.load(path)\n",
    "    pred_aggregate_upsample = cv2.resize(pred_aggregate, (curr_width, curr_y_valid), cv2.INTER_CUBIC)\n",
    "    scores.append(get_mAP_color(curr_y_valid, pred_aggregate_upsample, fname)[0])"
   ]
  },
  {
   "cell_type": "code",
   "execution_count": 161,
   "id": "assumed-fetish",
   "metadata": {},
   "outputs": [
    {
     "name": "stdout",
     "output_type": "stream",
     "text": [
      "mAP is:  0.05870117040536329 21\n"
     ]
    }
   ],
   "source": [
    "print(\"mAP is: \", np.mean(scores), len(scores))"
   ]
  },
  {
   "cell_type": "code",
   "execution_count": 45,
   "id": "vietnamese-consultation",
   "metadata": {},
   "outputs": [],
   "source": [
    "scores = []\n",
    "for fname in fnames:\n",
    "    # This line loads Jacob's results\n",
    "    pred_aggregate = np.load(f\"/data/vision/torralba/virtualhome/realvirtualhome/realvirtualhome/totem/totems-misc/notebooks/detection_results_patch/jacob_30x30_results/{fname[:-4]+'_result.npy'}\")\n",
    "    pred_aggregate_upsample = cv2.resize(pred_aggregate, (curr_width, curr_height), cv2.INTER_CUBIC)[:curr_y_valid, ...]\n",
    "    scores.append(get_mAP_color(curr_y_valid, pred_aggregate_upsample, fname)[0])"
   ]
  },
  {
   "cell_type": "code",
   "execution_count": 46,
   "id": "fresh-cheese",
   "metadata": {},
   "outputs": [
    {
     "name": "stdout",
     "output_type": "stream",
     "text": [
      "Jacob's mAP is:  0.8 21\n"
     ]
    }
   ],
   "source": [
    "# Table 2, Row 1, Column 3\n",
    "print(\"Jacob's mAP is: \", round(np.mean(scores), 3), len(scores))"
   ]
  },
  {
   "cell_type": "code",
   "execution_count": 173,
   "id": "official-statement",
   "metadata": {},
   "outputs": [],
   "source": [
    "scores = []\n",
    "for fname in fnames:\n",
    "    # This line loads our joint+L1 results\n",
    "    path = f\"/data/vision/torralba/virtualhome/realvirtualhome/realvirtualhome/totem/totems/notebooks/detection_results_patch/v1_L1_30x30_results/{fname[:-4]+'_result.npy'}\"\n",
    "    if not os.path.exists(path):\n",
    "        continue\n",
    "    pred_aggregate_upsample = np.load(path)\n",
    "    scores.append(get_mAP_color(global_y_valid, pred_aggregate_upsample, fname)[0])"
   ]
  },
  {
   "cell_type": "code",
   "execution_count": 175,
   "id": "pregnant-dress",
   "metadata": {
    "scrolled": true
   },
   "outputs": [
    {
     "name": "stdout",
     "output_type": "stream",
     "text": [
      "Best mAP is:  0.6086876276733647 15\n"
     ]
    }
   ],
   "source": [
    "# Because not limited to protected area\n",
    "print(\"Best mAP is: \", np.mean(scores), len(scores))"
   ]
  },
  {
   "cell_type": "markdown",
   "id": "further-vulnerability",
   "metadata": {},
   "source": [
    "### ManTraNet, color patch"
   ]
  },
  {
   "cell_type": "code",
   "execution_count": 47,
   "id": "detected-muslim",
   "metadata": {},
   "outputs": [],
   "source": [
    "folder = '/data/vision/phillipi/cortex/code/forensics-baseline/results/ManTraNet/localization/patch'\n",
    "fnames = sorted(os.listdir(folder))\n",
    "fnames = [fname for fname in fnames if not fname.startswith('.')]"
   ]
  },
  {
   "cell_type": "code",
   "execution_count": 48,
   "id": "legendary-forth",
   "metadata": {},
   "outputs": [],
   "source": [
    "curr_width = 1024\n",
    "curr_patch_size = round(patch_size/1412.*curr_width)\n",
    "curr_y_valid = round(global_y_valid/1412.*curr_width)\n",
    "curr_height = round(913/1412.*curr_width)"
   ]
  },
  {
   "cell_type": "code",
   "execution_count": 49,
   "id": "speaking-detroit",
   "metadata": {},
   "outputs": [],
   "source": [
    "scores = []\n",
    "for fname in fnames:\n",
    "    pred = imageio.imread(os.path.join(folder, fname))[:curr_y_valid, ...]\n",
    "    pred_aggregate = get_pred_aggregate(grid_size, curr_patch_size, pred, None, return_labels=False, manip=False)\n",
    "#     # This line loads Jacob's results\n",
    "#     pred_aggregate = np.load(f\"/data/vision/torralba/virtualhome/realvirtualhome/realvirtualhome/totem/totems/notebooks/detection_results_splice/jacob_30x30_results/{fname[:-4]+'_result.npy'}\")\n",
    "#     # This line loads our joint+L1 results\n",
    "#     path = f\"/data/vision/torralba/virtualhome/realvirtualhome/realvirtualhome/totem/totems/notebooks/detection_results_splice/v1_L1_30x30_results/{fname[:-4]+'_result.npy'}\"\n",
    "#     if not os.path.exists(path):\n",
    "#         continue\n",
    "#     pred_aggregate = np.load(path)\n",
    "    pred_aggregate_upsample = cv2.resize(pred_aggregate, (curr_width, curr_y_valid), cv2.INTER_CUBIC)\n",
    "    scores.append(get_mAP_color(curr_y_valid, pred_aggregate_upsample, fname)[0])"
   ]
  },
  {
   "cell_type": "code",
   "execution_count": 50,
   "id": "painted-casting",
   "metadata": {
    "scrolled": true
   },
   "outputs": [
    {
     "name": "stdout",
     "output_type": "stream",
     "text": [
      "mAP is:  0.295 21\n"
     ]
    }
   ],
   "source": [
    "# Table 2, Row 2, Column 3\n",
    "print(\"mAP is: \", round(np.mean(scores), 3), len(scores))"
   ]
  },
  {
   "cell_type": "markdown",
   "id": "noble-sound",
   "metadata": {},
   "source": [
    "### CAT-Net, color patch"
   ]
  },
  {
   "cell_type": "code",
   "execution_count": 220,
   "id": "awful-balloon",
   "metadata": {},
   "outputs": [],
   "source": [
    "folder = '/data/vision/phillipi/cortex/code/forensics-baseline/results/CAT-Net/localization/patch'\n",
    "fnames = sorted(os.listdir(folder))\n",
    "fnames = [fname for fname in fnames if not fname.startswith('.')]"
   ]
  },
  {
   "cell_type": "code",
   "execution_count": 221,
   "id": "artistic-blink",
   "metadata": {},
   "outputs": [],
   "source": [
    "curr_width = 256\n",
    "curr_patch_size = round(patch_size/1412.*curr_width)\n",
    "curr_y_valid = round(global_y_valid/1412.*curr_width)\n",
    "curr_height = round(913/1412.*curr_width)"
   ]
  },
  {
   "cell_type": "code",
   "execution_count": 222,
   "id": "united-market",
   "metadata": {},
   "outputs": [],
   "source": [
    "scores = []\n",
    "for fname in fnames:\n",
    "    pred = imageio.imread(os.path.join(folder, fname))[:curr_y_valid, ...]\n",
    "    pred_aggregate = get_pred_aggregate(grid_size, curr_patch_size, pred, None, return_labels=False, manip=False)\n",
    "#     # This line loads Jacob's results\n",
    "#     pred_aggregate = np.load(f\"/data/vision/torralba/virtualhome/realvirtualhome/realvirtualhome/totem/totems/notebooks/detection_results_splice/jacob_30x30_results/{fname[:-4]+'_result.npy'}\")\n",
    "#     # This line loads our joint+L1 results\n",
    "#     path = f\"/data/vision/torralba/virtualhome/realvirtualhome/realvirtualhome/totem/totems/notebooks/detection_results_splice/v1_L1_30x30_results/{fname[:-4]+'_result.npy'}\"\n",
    "#     if not os.path.exists(path):\n",
    "#         continue\n",
    "#     pred_aggregate = np.load(path)\n",
    "    pred_aggregate_upsample = cv2.resize(pred_aggregate, (curr_width, curr_y_valid), cv2.INTER_CUBIC)\n",
    "    scores.append(get_mAP_color(curr_y_valid, pred_aggregate_upsample, fname)[0])"
   ]
  },
  {
   "cell_type": "code",
   "execution_count": 223,
   "id": "separate-policy",
   "metadata": {},
   "outputs": [
    {
     "name": "stdout",
     "output_type": "stream",
     "text": [
      "mAP is:  0.2475677955163484 21\n"
     ]
    }
   ],
   "source": [
    "print(\"mAP is: \", np.mean(scores), len(scores))"
   ]
  },
  {
   "cell_type": "code",
   "execution_count": null,
   "id": "short-massage",
   "metadata": {},
   "outputs": [],
   "source": []
  },
  {
   "cell_type": "code",
   "execution_count": null,
   "id": "basic-mozambique",
   "metadata": {},
   "outputs": [],
   "source": []
  },
  {
   "cell_type": "markdown",
   "id": "naughty-effort",
   "metadata": {},
   "source": [
    "### ManTraNet, CAF"
   ]
  },
  {
   "cell_type": "code",
   "execution_count": 39,
   "id": "sharp-opportunity",
   "metadata": {},
   "outputs": [],
   "source": [
    "folder = '/data/vision/phillipi/cortex/code/forensics-baseline/results/ManTraNet/localization_full/CAF'\n",
    "fnames = sorted(os.listdir(folder))\n",
    "fnames = [fname for fname in fnames if not fname.startswith('.')]"
   ]
  },
  {
   "cell_type": "code",
   "execution_count": 40,
   "id": "distinguished-patrol",
   "metadata": {},
   "outputs": [],
   "source": [
    "curr_width = 1024\n",
    "curr_patch_size = round(patch_size/1412.*curr_width)\n",
    "curr_y_valid = round(global_y_valid/1412.*curr_width)\n",
    "curr_height = round(913/1412.*curr_width)"
   ]
  },
  {
   "cell_type": "code",
   "execution_count": 41,
   "id": "demanding-recognition",
   "metadata": {},
   "outputs": [
    {
     "name": "stdout",
     "output_type": "stream",
     "text": [
      "/data/vision/torralba/virtualhome/realvirtualhome/realvirtualhome/totem/totems-misc/data/content-aware-v3-div4-crop/JT8A8283_content_aware_fill_001_mask.png\n",
      "/data/vision/torralba/virtualhome/realvirtualhome/realvirtualhome/totem/totems-misc/data/content-aware-v3-div4-crop/JT8A8287_content_aware_fill_001_mask.png\n",
      "/data/vision/torralba/virtualhome/realvirtualhome/realvirtualhome/totem/totems-misc/data/content-aware-v3-div4-crop/JT8A8291_content_aware_fill_001_mask.png\n",
      "/data/vision/torralba/virtualhome/realvirtualhome/realvirtualhome/totem/totems-misc/data/content-aware-v3-div4-crop/JT8A8292_content_aware_fill_002_mask.png\n",
      "/data/vision/torralba/virtualhome/realvirtualhome/realvirtualhome/totem/totems-misc/data/content-aware-v3-div4-crop/JT8A8293_content_aware_fill_001_mask.png\n",
      "/data/vision/torralba/virtualhome/realvirtualhome/realvirtualhome/totem/totems-misc/data/content-aware-v3-div4-crop/JT8A8297_content_aware_fill_001_mask.png\n",
      "/data/vision/torralba/virtualhome/realvirtualhome/realvirtualhome/totem/totems-misc/data/content-aware-v3-div4-crop/JT8A8299_content_aware_fill_001_mask.png\n"
     ]
    }
   ],
   "source": [
    "scores = []\n",
    "for fname in fnames:\n",
    "    pred = imageio.imread(os.path.join(folder, fname))[:curr_y_valid, ...]\n",
    "    pred_aggregate = get_pred_aggregate(grid_size, curr_patch_size, pred, None, return_labels=False, manip=False)\n",
    "#     # This line loads Jacob's results\n",
    "#     pred_aggregate = np.load(f\"/data/vision/torralba/virtualhome/realvirtualhome/realvirtualhome/totem/totems/notebooks/detection_results_splice/jacob_30x30_results/{fname[:-4]+'_result.npy'}\")\n",
    "#     # This line loads our joint+L1 results\n",
    "#     path = f\"/data/vision/torralba/virtualhome/realvirtualhome/realvirtualhome/totem/totems/notebooks/detection_results_splice/v1_L1_30x30_results/{fname[:-4]+'_result.npy'}\"\n",
    "#     if not os.path.exists(path):\n",
    "#         continue\n",
    "#     pred_aggregate = np.load(path)\n",
    "    pred_aggregate_upsample = cv2.resize(pred_aggregate, (curr_width, curr_y_valid), cv2.INTER_CUBIC)\n",
    "    scores.append(get_mAP_CAF(curr_y_valid, pred_aggregate_upsample, fname))"
   ]
  },
  {
   "cell_type": "code",
   "execution_count": 42,
   "id": "searching-nevada",
   "metadata": {
    "scrolled": true
   },
   "outputs": [
    {
     "name": "stdout",
     "output_type": "stream",
     "text": [
      "mAP is:  0.181 7\n"
     ]
    }
   ],
   "source": [
    "# Table 2, Row 2, Column 1\n",
    "print(\"mAP is: \", round(np.mean(scores), 3), len(scores))"
   ]
  },
  {
   "cell_type": "code",
   "execution_count": 36,
   "id": "enabling-painting",
   "metadata": {},
   "outputs": [
    {
     "name": "stdout",
     "output_type": "stream",
     "text": [
      "/data/vision/torralba/virtualhome/realvirtualhome/realvirtualhome/totem/totems-misc/data/content-aware-v3-div4-crop/JT8A8283_content_aware_fill_001_mask.png\n",
      "/data/vision/torralba/virtualhome/realvirtualhome/realvirtualhome/totem/totems-misc/data/content-aware-v3-div4-crop/JT8A8287_content_aware_fill_001_mask.png\n",
      "/data/vision/torralba/virtualhome/realvirtualhome/realvirtualhome/totem/totems-misc/data/content-aware-v3-div4-crop/JT8A8291_content_aware_fill_001_mask.png\n",
      "/data/vision/torralba/virtualhome/realvirtualhome/realvirtualhome/totem/totems-misc/data/content-aware-v3-div4-crop/JT8A8292_content_aware_fill_002_mask.png\n",
      "/data/vision/torralba/virtualhome/realvirtualhome/realvirtualhome/totem/totems-misc/data/content-aware-v3-div4-crop/JT8A8293_content_aware_fill_001_mask.png\n",
      "/data/vision/torralba/virtualhome/realvirtualhome/realvirtualhome/totem/totems-misc/data/content-aware-v3-div4-crop/JT8A8297_content_aware_fill_001_mask.png\n",
      "/data/vision/torralba/virtualhome/realvirtualhome/realvirtualhome/totem/totems-misc/data/content-aware-v3-div4-crop/JT8A8299_content_aware_fill_001_mask.png\n"
     ]
    }
   ],
   "source": [
    "scores = []\n",
    "for fname in fnames:\n",
    "    # This line loads Jacob's results\n",
    "    pred_aggregate = np.load(f\"/data/vision/torralba/virtualhome/realvirtualhome/realvirtualhome/totem/totems-misc/notebooks/detection_results_CAF/jacob_30x30_results/{fname[:-4]+'_result.npy'}\")\n",
    "    pred_aggregate_upsample = cv2.resize(pred_aggregate, (curr_width, curr_height), cv2.INTER_CUBIC)[:curr_y_valid, ...]\n",
    "    scores.append(get_mAP_CAF(curr_y_valid, pred_aggregate_upsample, fname))"
   ]
  },
  {
   "cell_type": "code",
   "execution_count": 38,
   "id": "isolated-anderson",
   "metadata": {},
   "outputs": [
    {
     "name": "stdout",
     "output_type": "stream",
     "text": [
      "Jacob's mAP is:  0.036 7\n"
     ]
    }
   ],
   "source": [
    "# Table 2, Row 1, Column 1\n",
    "print(\"Jacob's mAP is: \", round(np.mean(scores), 3), len(scores))"
   ]
  },
  {
   "cell_type": "code",
   "execution_count": null,
   "id": "contrary-separate",
   "metadata": {},
   "outputs": [],
   "source": [
    "c"
   ]
  }
 ],
 "metadata": {
  "kernelspec": {
   "display_name": "Python 3",
   "language": "python",
   "name": "python3"
  },
  "language_info": {
   "codemirror_mode": {
    "name": "ipython",
    "version": 3
   },
   "file_extension": ".py",
   "mimetype": "text/x-python",
   "name": "python",
   "nbconvert_exporter": "python",
   "pygments_lexer": "ipython3",
   "version": "3.6.9"
  }
 },
 "nbformat": 4,
 "nbformat_minor": 5
}
