{
 "cells": [
  {
   "cell_type": "markdown",
   "id": "perceived-credit",
   "metadata": {},
   "source": [
    "## Common imports and helpers"
   ]
  },
  {
   "cell_type": "code",
   "execution_count": 1,
   "id": "29923ca9",
   "metadata": {},
   "outputs": [],
   "source": [
    "psize = (30, 30)\n",
    "# psize = (15, 15)\n",
    "# psize = (10, 10)\n",
    "\n",
    "def load_out(path):\n",
    "    out = np.load(path)\n",
    "    return out#[::2,::2]\n",
    "#     return out.reshape(5, 6, 15, 2).mean(3).mean(1)\n",
    "#     return out.reshape(5,6, 5, 6).mean(3).mean(1)\n",
    "    return out.reshape(10, 3, 10, 3).mean(3).mean(1)\n",
    "\n",
    "def get_manip_mask(manip_mask, thres=0.1, patch_size=64):\n",
    "#     manip_mask = (manip_mask == 255).astype('float32')\n",
    "#     manip_mask_ds = cv2.resize(manip_mask, psize[::-1], interpolation=cv2.INTER_AREA)\n",
    "#     return (manip_mask_ds > thres).astype('uint8')\n",
    "    msize = psize # \n",
    "    msize = (30, 30)\n",
    "    manip_mask = (manip_mask > 0).astype(np.uint8)\n",
    "    label = np.empty(msize, dtype=np.uint8)\n",
    "    im_h, im_w = manip_mask.shape\n",
    "    for ih, h in enumerate(np.linspace(0, im_h - patch_size, msize[0]).astype(int)):\n",
    "        for iw, w in enumerate(np.linspace(0, im_w - patch_size, msize[1]).astype(int)):\n",
    "            label[ih, iw] = int(np.mean(manip_mask[h:h+patch_size, w:w+patch_size]) > thres)\n",
    "    return label#[::2,::2]#.reshape(5, 6, 15, 2).mean(3).mean(1) > thres\n",
    "#     manip_mask = (manip_mask == 255).astype('float32')\n",
    "#     manip_mask_ds = cv2.resize(manip_mask, psize, interpolation=cv2.INTER_AREA)\n",
    "#     return (manip_mask_ds > thres).astype('uint8')"
   ]
  },
  {
   "cell_type": "markdown",
   "id": "5b46b667",
   "metadata": {},
   "source": [
    "# CAF"
   ]
  },
  {
   "cell_type": "code",
   "execution_count": 2,
   "id": "4f6b794b",
   "metadata": {
    "scrolled": true
   },
   "outputs": [],
   "source": [
    "# BIG mAP\n",
    "from PIL import Image\n",
    "import torch\n",
    "import torch.nn as nn\n",
    "import numpy as np\n",
    "from torchvision import transforms\n",
    "from util import renormalize, show, losses\n",
    "import lpips\n",
    "from sklearn import metrics\n",
    "import matplotlib.pyplot as plt\n",
    "%matplotlib inline\n",
    "plt.rcParams[\"figure.figsize\"] = (16, 8)\n",
    "import cv2\n",
    "import glob\n",
    "import os\n",
    "\n",
    "\n",
    "version = 'v1'\n",
    "loss_type = 'LPIPS' # 'LPIPS'\n",
    "# loss_type = 'L1' # 'LPIPS'\n",
    "\n",
    "# Has the heatmap and npys \n",
    "folder = f'/data/vision/torralba/virtualhome/realvirtualhome/realvirtualhome/totem/totems-misc/notebooks/detection_results_CAF/{version}_{loss_type}_30x30_results/'\n",
    "fnames = os.listdir(folder)\n",
    "fnames = sorted([fname for fname in fnames if 'raw.npy' in fname])\n",
    "im_w, y_valid = 1412, 534\n",
    "manip_folder = '/data/vision/torralba/virtualhome/realvirtualhome/realvirtualhome/totem/totems-misc/data/content-aware-v3-div4-crop/'\n",
    "ds = 4\n",
    "source_dir = '/data/vision/torralba/virtualhome/realvirtualhome/realvirtualhome/totem/totems-misc/data/source-div%s-crop/' % str(ds)\n",
    "\n",
    "# fake predictions and labels\n",
    "fake_scores1 = []\n",
    "fake_labels1 = []\n",
    "for fname in fnames:\n",
    "    out = load_out(os.path.join(folder, fname)) # (30, 30)\n",
    "#     out_up = cv2.resize(out, (im_w, y_valid), cv2.INTER_CUBIC)\n",
    "    exp_name = fname[:8]+f'c_{version}'\n",
    "    \n",
    "    # load protect mask to filter\n",
    "    path_protect = os.path.join(source_dir, f'{exp_name}_protect_mask.png')\n",
    "    protect_mask = cv2.imread(path_protect)[:y_valid, :, 0]\n",
    "#     assert len(np.unique(protect_mask)) == 2\n",
    "    protect_mask_ds = cv2.resize(protect_mask, psize[::-1], cv2.INTER_AREA)\n",
    "    protect_filter = np.where(protect_mask_ds > 0)\n",
    "#     path_mask = os.path.join(source_dir, 'totem_mask.png')\n",
    "#     other_filter = np.where(protect_mask != 255)\n",
    "\n",
    "    # load manip mask to label\n",
    "    path_manip_mask = os.path.join(manip_folder, fname[:31] + '_mask.png')\n",
    "    manip_mask = cv2.imread(path_manip_mask)[:y_valid, :, 0]\n",
    "    manip_mask_ds = get_manip_mask(manip_mask)\n",
    "#     manip_mask = (manip_mask == 255).astype('uint8')\n",
    "#     manip_mask_ds = cv2.resize(manip_mask, psize, cv2.INTER_NEAREST)\n",
    "    \n",
    "    fake_scores1.append(out[protect_filter])\n",
    "    fake_labels1.append(manip_mask_ds[protect_filter])\n",
    "\n",
    "    \n",
    "fake_scores1 = np.concatenate(fake_scores1)\n",
    "fake_labels1 = np.concatenate(fake_labels1)"
   ]
  },
  {
   "cell_type": "code",
   "execution_count": 3,
   "id": "8dcf164e",
   "metadata": {},
   "outputs": [
    {
     "data": {
      "text/plain": [
       "(30, 30)"
      ]
     },
     "execution_count": 3,
     "metadata": {},
     "output_type": "execute_result"
    }
   ],
   "source": [
    "manip_mask_ds.shape"
   ]
  },
  {
   "cell_type": "code",
   "execution_count": 4,
   "id": "0cb35f2f",
   "metadata": {},
   "outputs": [
    {
     "data": {
      "text/plain": [
       "(534, 1412)"
      ]
     },
     "execution_count": 4,
     "metadata": {},
     "output_type": "execute_result"
    }
   ],
   "source": [
    "manip_mask.shape"
   ]
  },
  {
   "cell_type": "code",
   "execution_count": 5,
   "id": "55438977",
   "metadata": {},
   "outputs": [
    {
     "data": {
      "text/plain": [
       "53.4"
      ]
     },
     "execution_count": 5,
     "metadata": {},
     "output_type": "execute_result"
    }
   ],
   "source": [
    "534/10"
   ]
  },
  {
   "cell_type": "code",
   "execution_count": 6,
   "id": "bce5c24d",
   "metadata": {},
   "outputs": [
    {
     "data": {
      "text/plain": [
       "47.06666666666667"
      ]
     },
     "execution_count": 6,
     "metadata": {},
     "output_type": "execute_result"
    }
   ],
   "source": [
    "1412/30"
   ]
  },
  {
   "cell_type": "code",
   "execution_count": 7,
   "id": "ae8ff46f",
   "metadata": {},
   "outputs": [
    {
     "data": {
      "text/plain": [
       "<matplotlib.image.AxesImage at 0x7f49a19f5d68>"
      ]
     },
     "execution_count": 7,
     "metadata": {},
     "output_type": "execute_result"
    },
    {
     "data": {
      "image/png": "[encoded data removed]",
      "text/plain": [
       "<Figure size 1152x576 with 1 Axes>"
      ]
     },
     "metadata": {
      "needs_background": "light"
     },
     "output_type": "display_data"
    }
   ],
   "source": [
    "plt.imshow(protect_mask_ds > 0)"
   ]
  },
  {
   "cell_type": "code",
   "execution_count": 8,
   "id": "8b8c532d",
   "metadata": {},
   "outputs": [
    {
     "data": {
      "text/plain": [
       "<matplotlib.colorbar.Colorbar at 0x7f499f896ac8>"
      ]
     },
     "execution_count": 8,
     "metadata": {},
     "output_type": "execute_result"
    },
    {
     "data": {
      "image/png": "[encoded data removed]",
      "text/plain": [
       "<Figure size 1152x576 with 2 Axes>"
      ]
     },
     "metadata": {
      "needs_background": "light"
     },
     "output_type": "display_data"
    }
   ],
   "source": [
    "plt.imshow(manip_mask_ds)\n",
    "plt.colorbar()"
   ]
  },
  {
   "cell_type": "code",
   "execution_count": 9,
   "id": "9e3cebd1",
   "metadata": {},
   "outputs": [
    {
     "data": {
      "text/plain": [
       "<matplotlib.colorbar.Colorbar at 0x7f499f7d89b0>"
      ]
     },
     "execution_count": 9,
     "metadata": {},
     "output_type": "execute_result"
    },
    {
     "data": {
      "image/png": "[encoded data removed]",
      "text/plain": [
       "<Figure size 1152x576 with 2 Axes>"
      ]
     },
     "metadata": {
      "needs_background": "light"
     },
     "output_type": "display_data"
    }
   ],
   "source": [
    "plt.imshow(out * (protect_mask_ds > 0) > 0.7)\n",
    "plt.colorbar()"
   ]
  },
  {
   "cell_type": "markdown",
   "id": "7b819230",
   "metadata": {},
   "source": [
    "# Real"
   ]
  },
  {
   "cell_type": "code",
   "execution_count": 10,
   "id": "ba539811",
   "metadata": {},
   "outputs": [],
   "source": [
    "# real predictions and labels\n",
    "real_scores = []\n",
    "real_fnames = sorted(list(set([fname[:8] for fname in fnames])))\n",
    "real_folder = f'/data/vision/torralba/virtualhome/realvirtualhome/realvirtualhome/totem/totems-misc/notebooks/detection_results_CAF_real/{version}_{loss_type}_30x30_results/'\n",
    "ds = 4\n",
    "source_dir = '/data/vision/torralba/virtualhome/realvirtualhome/realvirtualhome/totem/totems-misc/data/source-div%s-crop/' % str(ds)\n",
    "\n",
    "for fname in real_fnames:\n",
    "    out = load_out(os.path.join(real_folder, fname+'_raw.npy')) # (30, 30)\n",
    "#     out_up = cv2.resize(out, (im_w, y_valid), cv2.INTER_CUBIC)\n",
    "    exp_name = fname[:8]+f'c_{version}'\n",
    "    \n",
    "    # load protect mask\n",
    "    path_protect = os.path.join(source_dir, f'{exp_name}_protect_mask.png')\n",
    "    protect_mask = cv2.imread(path_protect)[:y_valid, :, 0]\n",
    "    protect_mask_ds = cv2.resize(protect_mask, psize[::-1], cv2.INTER_AREA)\n",
    "    protect_filter = np.where(protect_mask_ds > 0)\n",
    "#     path_mask = os.path.join(source_dir, 'totem_mask.png')\n",
    "#     other_filter = np.where(protect_mask != 255)\n",
    "    \n",
    "#     # Replace values in unprotected area with 0.0\n",
    "#     out_up[other_filter] = 0.0\n",
    "#     im_score = np.max(out_up)\n",
    "#     real_scores.append(im_score)\n",
    "    real_scores.append(out[protect_filter])\n",
    "\n",
    "real_scores = np.concatenate(real_scores)\n",
    "real_labels = np.zeros(len(real_scores))"
   ]
  },
  {
   "cell_type": "markdown",
   "id": "1fe47541",
   "metadata": {},
   "source": [
    "# Splice"
   ]
  },
  {
   "cell_type": "code",
   "execution_count": 11,
   "id": "9adaf95a",
   "metadata": {},
   "outputs": [],
   "source": [
    "# Has the heatmap and npys \n",
    "folder = f'/data/vision/torralba/virtualhome/realvirtualhome/realvirtualhome/totem/totems-misc/notebooks/detection_results_splice/{version}_{loss_type}_30x30_results/'\n",
    "fnames = os.listdir(folder)\n",
    "fnames = sorted([fname for fname in fnames if 'raw.npy' in fname])\n",
    "im_w, y_valid = 1412, 534\n",
    "manip_folder = '/data/vision/torralba/virtualhome/realvirtualhome/realvirtualhome/totem/totems-misc/data/content-aware-v2c-div4-crop/'\n",
    "ds = 4\n",
    "source_dir = '/data/vision/torralba/virtualhome/realvirtualhome/realvirtualhome/totem/totems-misc/data/source-div%s-crop/' % str(ds)\n",
    "\n",
    "# fake predictions and labels\n",
    "fake_scores2 = []\n",
    "fake_labels2 = []\n",
    "for fname in fnames:\n",
    "    out = load_out(os.path.join(folder, fname)) # (30, 30)\n",
    "#     out_up = cv2.resize(out, (im_w, y_valid), cv2.INTER_CUBIC)\n",
    "    exp_name = fname[:8]+f'c_{version}'\n",
    "    \n",
    "    # load protect mask\n",
    "    path_protect = os.path.join(source_dir, f'{exp_name}_protect_mask.png')\n",
    "    protect_mask = cv2.imread(path_protect)[:y_valid, :, 0]\n",
    "    protect_mask_ds = cv2.resize(protect_mask, psize[::-1], cv2.INTER_AREA)\n",
    "    protect_filter = np.where(protect_mask_ds > 0)\n",
    "    \n",
    "    # load manip mask to label\n",
    "    path_manip_mask = os.path.join(manip_folder, fname[9:-8] + '.png')\n",
    "    manip_mask = cv2.imread(path_manip_mask)[:y_valid, :, 0]\n",
    "#     manip_mask = (manip_mask == 255).astype('uint8')\n",
    "#     manip_mask_ds = cv2.resize(manip_mask, psize, cv2.INTER_NEAREST)\n",
    "    manip_mask_ds = get_manip_mask(manip_mask)\n",
    "    \n",
    "    fake_scores2.append(out[protect_filter])\n",
    "    fake_labels2.append(manip_mask_ds[protect_filter])\n",
    "    \n",
    "fake_scores2 = np.concatenate(fake_scores2)\n",
    "fake_labels2 = np.concatenate(fake_labels2)\n"
   ]
  },
  {
   "cell_type": "markdown",
   "id": "04ee64f7",
   "metadata": {},
   "source": [
    "# Patch"
   ]
  },
  {
   "cell_type": "code",
   "execution_count": 12,
   "id": "d3d938f7",
   "metadata": {},
   "outputs": [
    {
     "data": {
      "text/plain": [
       "8"
      ]
     },
     "execution_count": 12,
     "metadata": {},
     "output_type": "execute_result"
    }
   ],
   "source": [
    "len(fnames)"
   ]
  },
  {
   "cell_type": "code",
   "execution_count": 13,
   "id": "cdfa0613",
   "metadata": {},
   "outputs": [],
   "source": [
    "# Has the heatmap and npys \n",
    "folder = f'/data/vision/torralba/virtualhome/realvirtualhome/realvirtualhome/totem/totems-misc/notebooks/detection_results_patch/{version}_{loss_type}_30x30_results/'\n",
    "fnames = os.listdir(folder)\n",
    "fnames = sorted([fname for fname in fnames if 'raw.npy' in fname])\n",
    "im_w, y_valid = 1412, 534\n",
    "manip_folder = '/data/vision/phillipi/gan-training/totem/resources/totems/data/manip_patch/'\n",
    "ds = 4\n",
    "source_dir = '/data/vision/torralba/virtualhome/realvirtualhome/realvirtualhome/totem/totems-misc/data/source-div%s-crop/' % str(ds)\n",
    "\n",
    "# fake predictions and labels\n",
    "fake_scores3 = []\n",
    "fake_labels3 = []\n",
    "for fname in fnames:\n",
    "    out = load_out(os.path.join(folder, fname)) # (30, 30)\n",
    "#     out_up = cv2.resize(out, (im_w, y_valid), cv2.INTER_CUBIC)\n",
    "    exp_name = fname[:8]+f'c_{version}'\n",
    "    \n",
    "    # load protect mask\n",
    "    path_protect = os.path.join(source_dir, f'{exp_name}_protect_mask.png')\n",
    "    protect_mask = cv2.imread(path_protect)[:y_valid, :, 0]\n",
    "    protect_mask_ds = cv2.resize(protect_mask, psize[::-1], cv2.INTER_AREA)\n",
    "    protect_filter = np.where(protect_mask_ds > 0)\n",
    "    \n",
    "    # load manip mask to label\n",
    "    path_manip_mask = os.path.join(manip_folder, fname[:11] + 'mask.png')\n",
    "    manip_mask = cv2.imread(path_manip_mask)[:y_valid, :, 0]\n",
    "#     manip_mask = (manip_mask == 255).astype('uint8')\n",
    "#     manip_mask_ds = cv2.resize(manip_mask, psize, cv2.INTER_NEAREST)\n",
    "    manip_mask_ds = get_manip_mask(manip_mask)\n",
    "    \n",
    "    fake_scores3.append(out[protect_filter])\n",
    "    fake_labels3.append(manip_mask_ds[protect_filter])\n",
    "    \n",
    "fake_scores3 = np.concatenate(fake_scores3)\n",
    "fake_labels3 = np.concatenate(fake_labels3)\n"
   ]
  },
  {
   "cell_type": "markdown",
   "id": "21f4a230",
   "metadata": {},
   "source": [
    "# Merging"
   ]
  },
  {
   "cell_type": "code",
   "execution_count": 14,
   "id": "eeb78cd1",
   "metadata": {},
   "outputs": [],
   "source": [
    "def print_stats(scores, labels):\n",
    "    mAP = metrics.average_precision_score(labels, scores, average='weighted')\n",
    "    print('Number of manipulated patches: ', np.sum(labels))\n",
    "    print('Number of unmanipulated patches: ', len(labels)-np.sum(labels))\n",
    "    print(np.sum(labels) / len(labels))\n",
    "    print('mAP: ', mAP)"
   ]
  },
  {
   "cell_type": "code",
   "execution_count": 16,
   "id": "c22dd0e1",
   "metadata": {},
   "outputs": [],
   "source": [
    "import seaborn as sns"
   ]
  },
  {
   "cell_type": "code",
   "execution_count": 17,
   "id": "4d2ee693",
   "metadata": {},
   "outputs": [],
   "source": [
    "import pandas as pd"
   ]
  },
  {
   "cell_type": "code",
   "execution_count": 18,
   "id": "004b615d",
   "metadata": {},
   "outputs": [],
   "source": [
    "data = []\n",
    "\n",
    "for ii in range(len(fake_scores1)):\n",
    "    label = fake_labels1[ii]\n",
    "    data.append(dict(\n",
    "        type='Real' if not label else 'CAF', \n",
    "        score=fake_scores1[ii].item(), \n",
    "        source='CAF',\n",
    "        label=label,\n",
    "    ))\n",
    "for ii in range(len(fake_scores2)):\n",
    "    label = fake_labels2[ii]\n",
    "    data.append(dict(\n",
    "        type='Real' if not label else 'Splicing', \n",
    "        score=fake_scores2[ii].item(), \n",
    "        source='Splicing',\n",
    "        label=label,\n",
    "    ))\n",
    "for ii in range(len(fake_scores3)):\n",
    "    label = fake_labels3[ii]\n",
    "    data.append(dict(\n",
    "        type='Real' if not label else 'Color', \n",
    "        score=fake_scores3[ii].item(), \n",
    "        source='Color',\n",
    "        label=label,\n",
    "    ))\n",
    "for ii in range(len(real_scores)):\n",
    "    assert real_labels[ii] == 0\n",
    "    data.append(dict(\n",
    "        type='Real', \n",
    "        score=real_scores[ii].item(), \n",
    "        source='Real',\n",
    "        label=0,\n",
    "    ))"
   ]
  },
  {
   "cell_type": "code",
   "execution_count": 19,
   "id": "329b3cdf",
   "metadata": {},
   "outputs": [],
   "source": [
    "data = pd.DataFrame(data)"
   ]
  },
  {
   "cell_type": "code",
   "execution_count": 20,
   "id": "great-israel",
   "metadata": {},
   "outputs": [
    {
     "data": {
      "text/html": [
       "<div>\n",
       "<style scoped>\n",
       "    .dataframe tbody tr th:only-of-type {\n",
       "        vertical-align: middle;\n",
       "    }\n",
       "\n",
       "    .dataframe tbody tr th {\n",
       "        vertical-align: top;\n",
       "    }\n",
       "\n",
       "    .dataframe thead th {\n",
       "        text-align: right;\n",
       "    }\n",
       "</style>\n",
       "<table border=\"1\" class=\"dataframe\">\n",
       "  <thead>\n",
       "    <tr style=\"text-align: right;\">\n",
       "      <th></th>\n",
       "      <th>type</th>\n",
       "      <th>score</th>\n",
       "      <th>source</th>\n",
       "      <th>label</th>\n",
       "    </tr>\n",
       "  </thead>\n",
       "  <tbody>\n",
       "    <tr>\n",
       "      <th>0</th>\n",
       "      <td>Real</td>\n",
       "      <td>0.528647</td>\n",
       "      <td>CAF</td>\n",
       "      <td>0</td>\n",
       "    </tr>\n",
       "    <tr>\n",
       "      <th>1</th>\n",
       "      <td>Real</td>\n",
       "      <td>0.597675</td>\n",
       "      <td>CAF</td>\n",
       "      <td>0</td>\n",
       "    </tr>\n",
       "    <tr>\n",
       "      <th>2</th>\n",
       "      <td>Real</td>\n",
       "      <td>0.544581</td>\n",
       "      <td>CAF</td>\n",
       "      <td>0</td>\n",
       "    </tr>\n",
       "    <tr>\n",
       "      <th>3</th>\n",
       "      <td>Real</td>\n",
       "      <td>0.521227</td>\n",
       "      <td>CAF</td>\n",
       "      <td>0</td>\n",
       "    </tr>\n",
       "    <tr>\n",
       "      <th>4</th>\n",
       "      <td>Real</td>\n",
       "      <td>0.541915</td>\n",
       "      <td>CAF</td>\n",
       "      <td>0</td>\n",
       "    </tr>\n",
       "    <tr>\n",
       "      <th>...</th>\n",
       "      <td>...</td>\n",
       "      <td>...</td>\n",
       "      <td>...</td>\n",
       "      <td>...</td>\n",
       "    </tr>\n",
       "    <tr>\n",
       "      <th>17059</th>\n",
       "      <td>Real</td>\n",
       "      <td>0.417618</td>\n",
       "      <td>Real</td>\n",
       "      <td>0</td>\n",
       "    </tr>\n",
       "    <tr>\n",
       "      <th>17060</th>\n",
       "      <td>Real</td>\n",
       "      <td>0.502019</td>\n",
       "      <td>Real</td>\n",
       "      <td>0</td>\n",
       "    </tr>\n",
       "    <tr>\n",
       "      <th>17061</th>\n",
       "      <td>Real</td>\n",
       "      <td>0.426905</td>\n",
       "      <td>Real</td>\n",
       "      <td>0</td>\n",
       "    </tr>\n",
       "    <tr>\n",
       "      <th>17062</th>\n",
       "      <td>Real</td>\n",
       "      <td>0.480781</td>\n",
       "      <td>Real</td>\n",
       "      <td>0</td>\n",
       "    </tr>\n",
       "    <tr>\n",
       "      <th>17063</th>\n",
       "      <td>Real</td>\n",
       "      <td>0.604607</td>\n",
       "      <td>Real</td>\n",
       "      <td>0</td>\n",
       "    </tr>\n",
       "  </tbody>\n",
       "</table>\n",
       "<p>17064 rows × 4 columns</p>\n",
       "</div>"
      ],
      "text/plain": [
       "       type     score source  label\n",
       "0      Real  0.528647    CAF      0\n",
       "1      Real  0.597675    CAF      0\n",
       "2      Real  0.544581    CAF      0\n",
       "3      Real  0.521227    CAF      0\n",
       "4      Real  0.541915    CAF      0\n",
       "...     ...       ...    ...    ...\n",
       "17059  Real  0.417618   Real      0\n",
       "17060  Real  0.502019   Real      0\n",
       "17061  Real  0.426905   Real      0\n",
       "17062  Real  0.480781   Real      0\n",
       "17063  Real  0.604607   Real      0\n",
       "\n",
       "[17064 rows x 4 columns]"
      ]
     },
     "execution_count": 20,
     "metadata": {},
     "output_type": "execute_result"
    }
   ],
   "source": [
    "data"
   ]
  },
  {
   "cell_type": "code",
   "execution_count": 21,
   "id": "8904fad6",
   "metadata": {},
   "outputs": [],
   "source": [
    "!mkdir -p ./patch_detection_out_09232022"
   ]
  },
  {
   "cell_type": "code",
   "execution_count": 22,
   "id": "496d6c45",
   "metadata": {},
   "outputs": [
    {
     "data": {
      "image/png": "[encoded data removed]",
      "text/plain": [
       "<Figure size 1203.9x432 with 1 Axes>"
      ]
     },
     "metadata": {
      "needs_background": "light"
     },
     "output_type": "display_data"
    }
   ],
   "source": [
    "with sns.plotting_context(\"notebook\", font_scale=1.5):\n",
    "    g = sns.displot(data, x='score', hue='type', binwidth=0.025, kde=True, height=6, aspect=2.5, stat='probability', common_norm=False)\n",
    "plt.gca().set_xlabel(f'{loss_type} Distribution')\n",
    "plt.gca().set_ylabel('Normalized Frequency')\n",
    "\n",
    "g._legend.set_title('Patch Type')\n",
    "\n",
    "for t in g._legend.texts: \n",
    "    t.set_text(t.get_text() + f\" (n={len(data[data['type'] == t.get_text()])})\")\n",
    "    \n",
    "plt.gcf().savefig(f'patch_detection_out_09232022/patch_score_distn_{loss_type.lower()}.pdf', dpi=100)"
   ]
  },
  {
   "cell_type": "code",
   "execution_count": 23,
   "id": "4e634746",
   "metadata": {},
   "outputs": [
    {
     "data": {
      "text/plain": [
       "'Real (n=15443)'"
      ]
     },
     "execution_count": 23,
     "metadata": {},
     "output_type": "execute_result"
    }
   ],
   "source": [
    "g._legend.texts[0].get_text()"
   ]
  },
  {
   "cell_type": "code",
   "execution_count": 24,
   "id": "8a518cf0",
   "metadata": {},
   "outputs": [
    {
     "data": {
      "text/plain": [
       "15443"
      ]
     },
     "execution_count": 24,
     "metadata": {},
     "output_type": "execute_result"
    }
   ],
   "source": [
    "len(data[data['type'] == 'Real'])"
   ]
  },
  {
   "cell_type": "code",
   "execution_count": 25,
   "id": "9b4fa04d",
   "metadata": {},
   "outputs": [
    {
     "name": "stdout",
     "output_type": "stream",
     "text": [
      "/data/vision/torralba/virtualhome/realvirtualhome/realvirtualhome/totem/totems/notebooks\r\n"
     ]
    }
   ],
   "source": [
    "!pwd"
   ]
  },
  {
   "cell_type": "code",
   "execution_count": 26,
   "id": "a1a5292e",
   "metadata": {},
   "outputs": [
    {
     "data": {
      "text/plain": [
       "<seaborn.axisgrid.FacetGrid at 0x7f4a7ab456a0>"
      ]
     },
     "execution_count": 26,
     "metadata": {},
     "output_type": "execute_result"
    },
    {
     "data": {
      "image/png": "[encoded data removed]",
      "text/plain": [
       "<Figure size 964.7x504 with 1 Axes>"
      ]
     },
     "metadata": {
      "needs_background": "light"
     },
     "output_type": "display_data"
    }
   ],
   "source": [
    "sns.displot(data[data['source'].isin(['CAF', 'Real'])], x='score', hue='type', binwidth=0.03, kde=True, height=7, aspect=1.8, stat='count', common_norm=False)"
   ]
  },
  {
   "cell_type": "code",
   "execution_count": 27,
   "id": "ea96e9d6",
   "metadata": {},
   "outputs": [
    {
     "data": {
      "text/plain": [
       "<seaborn.axisgrid.FacetGrid at 0x7f4a7b529780>"
      ]
     },
     "execution_count": 27,
     "metadata": {},
     "output_type": "execute_result"
    },
    {
     "data": {
      "image/png": "[encoded data removed]",
      "text/plain": [
       "<Figure size 969.075x504 with 1 Axes>"
      ]
     },
     "metadata": {
      "needs_background": "light"
     },
     "output_type": "display_data"
    }
   ],
   "source": [
    "sns.displot(data[data['source'].isin(['Color', 'Real'])], x='score', hue='type', binwidth=0.03, kde=True, height=7, aspect=1.8, stat='probability', common_norm=False)"
   ]
  },
  {
   "cell_type": "code",
   "execution_count": 28,
   "id": "d036297f",
   "metadata": {},
   "outputs": [],
   "source": [
    "sub = data[data['source'].isin(['CAF', 'Real'])]"
   ]
  },
  {
   "cell_type": "code",
   "execution_count": 29,
   "id": "3080a840",
   "metadata": {},
   "outputs": [
    {
     "name": "stdout",
     "output_type": "stream",
     "text": [
      "Number of manipulated patches:  467\n",
      "Number of unmanipulated patches:  5965\n",
      "0.07260572139303482\n",
      "mAP:  0.495419105294521\n"
     ]
    }
   ],
   "source": [
    "print_stats(\n",
    "    sub['score'].tolist(),\n",
    "    sub['label'].tolist(),\n",
    ")"
   ]
  },
  {
   "cell_type": "code",
   "execution_count": 30,
   "id": "e5ca158a",
   "metadata": {},
   "outputs": [
    {
     "name": "stdout",
     "output_type": "stream",
     "text": [
      "All patches in all datasets\n",
      "Number of manipulated patches:  1621.0\n",
      "Number of unmanipulated patches:  15443.0\n",
      "0.09499531176746366\n",
      "mAP:  0.708645798719385\n"
     ]
    }
   ],
   "source": [
    "# Table 1, column 4, row 2 and 3\n",
    "scores = np.concatenate([fake_scores1, fake_scores2, fake_scores3, real_scores])\n",
    "labels = np.concatenate([fake_labels1, fake_labels2, fake_labels3, real_labels])\n",
    "print('All patches in all datasets')\n",
    "print_stats(scores, labels)"
   ]
  },
  {
   "cell_type": "code",
   "execution_count": 31,
   "id": "e0becdb8",
   "metadata": {},
   "outputs": [
    {
     "name": "stdout",
     "output_type": "stream",
     "text": [
      "All patches in CAF\n",
      "Number of manipulated patches:  467\n",
      "Number of unmanipulated patches:  2749.0\n",
      "0.14521144278606965\n",
      "mAP:  0.5752827487401846\n"
     ]
    }
   ],
   "source": [
    "print('All patches in CAF')\n",
    "print_stats(fake_scores1, fake_labels1)"
   ]
  },
  {
   "cell_type": "code",
   "execution_count": 32,
   "id": "48846d3e",
   "metadata": {},
   "outputs": [
    {
     "name": "stdout",
     "output_type": "stream",
     "text": [
      "All patches in splicing\n",
      "Number of manipulated patches:  568\n",
      "Number of unmanipulated patches:  3143.0\n",
      "0.15305847480463486\n",
      "mAP:  0.7423979857121863\n"
     ]
    }
   ],
   "source": [
    "print('All patches in splicing')\n",
    "print_stats(fake_scores2, fake_labels2)"
   ]
  },
  {
   "cell_type": "code",
   "execution_count": 33,
   "id": "87085840",
   "metadata": {},
   "outputs": [
    {
     "name": "stdout",
     "output_type": "stream",
     "text": [
      "All patches in color patch\n",
      "Number of manipulated patches:  586\n",
      "Number of unmanipulated patches:  6335.0\n",
      "0.08466984539806387\n",
      "mAP:  0.8503904087435216\n"
     ]
    }
   ],
   "source": [
    "print('All patches in color patch')\n",
    "print_stats(fake_scores3, fake_labels3)"
   ]
  },
  {
   "cell_type": "code",
   "execution_count": 34,
   "id": "4384498d",
   "metadata": {},
   "outputs": [
    {
     "name": "stdout",
     "output_type": "stream",
     "text": [
      "All patches in original images\n",
      "Number of manipulated patches:  0.0\n",
      "Number of unmanipulated patches:  3216.0\n",
      "0.0\n",
      "mAP:  nan\n"
     ]
    },
    {
     "name": "stderr",
     "output_type": "stream",
     "text": [
      "/data/vision/torralba/virtualhome/realvirtualhome/realvirtualhome/totem/nerf-pytorch/venv/lib/python3.6/site-packages/sklearn/metrics/_ranking.py:817: RuntimeWarning: invalid value encountered in true_divide\n",
      "  recall = tps / tps[-1]\n"
     ]
    }
   ],
   "source": [
    "print('All patches in original images')\n",
    "print_stats(real_scores, real_labels)"
   ]
  },
  {
   "cell_type": "code",
   "execution_count": 35,
   "id": "decd5636",
   "metadata": {},
   "outputs": [
    {
     "name": "stdout",
     "output_type": "stream",
     "text": [
      "CAF + real\n",
      "Number of manipulated patches:  467.0\n",
      "Number of unmanipulated patches:  5965.0\n",
      "0.07260572139303482\n",
      "mAP:  0.495419105294521\n"
     ]
    }
   ],
   "source": [
    "# Table 1, column 1, row 2 and 3\n",
    "scores = np.concatenate([fake_scores1, real_scores])\n",
    "labels = np.concatenate([fake_labels1, real_labels])\n",
    "print('CAF + real')\n",
    "print_stats(scores, labels)"
   ]
  },
  {
   "cell_type": "code",
   "execution_count": 36,
   "id": "229e4ea1",
   "metadata": {},
   "outputs": [
    {
     "name": "stdout",
     "output_type": "stream",
     "text": [
      "splice + real\n",
      "Number of manipulated patches:  568.0\n",
      "Number of unmanipulated patches:  6359.0\n",
      "0.08199797892305472\n",
      "mAP:  0.6315060326524435\n"
     ]
    }
   ],
   "source": [
    "# Table 1, column 2, row 2 and 3\n",
    "scores = np.concatenate([fake_scores2, real_scores])\n",
    "labels = np.concatenate([fake_labels2, real_labels])\n",
    "print('splice + real')\n",
    "print_stats(scores, labels)"
   ]
  },
  {
   "cell_type": "code",
   "execution_count": 37,
   "id": "41b5580c",
   "metadata": {},
   "outputs": [
    {
     "name": "stdout",
     "output_type": "stream",
     "text": [
      "color + real\n",
      "Number of manipulated patches:  586.0\n",
      "Number of unmanipulated patches:  9551.0\n",
      "0.05780802998914866\n",
      "mAP:  0.8169091502907349\n"
     ]
    }
   ],
   "source": [
    "# Table 1, column 3, row 2 and 3\n",
    "scores = np.concatenate([fake_scores3, real_scores])\n",
    "labels = np.concatenate([fake_labels3, real_labels])\n",
    "print('color + real')\n",
    "print_stats(scores, labels)"
   ]
  },
  {
   "cell_type": "code",
   "execution_count": null,
   "id": "4ca6577c",
   "metadata": {},
   "outputs": [],
   "source": []
  },
  {
   "cell_type": "code",
   "execution_count": null,
   "id": "5181a50f",
   "metadata": {},
   "outputs": [],
   "source": []
  },
  {
   "cell_type": "code",
   "execution_count": null,
   "id": "cfbb40b4",
   "metadata": {},
   "outputs": [],
   "source": []
  },
  {
   "cell_type": "code",
   "execution_count": null,
   "id": "b40ff809",
   "metadata": {},
   "outputs": [],
   "source": []
  },
  {
   "cell_type": "code",
   "execution_count": null,
   "id": "e02dcfe6",
   "metadata": {},
   "outputs": [],
   "source": []
  },
  {
   "cell_type": "code",
   "execution_count": null,
   "id": "1cf89a47",
   "metadata": {},
   "outputs": [],
   "source": []
  },
  {
   "cell_type": "code",
   "execution_count": null,
   "id": "ab4e6700",
   "metadata": {},
   "outputs": [],
   "source": []
  }
 ],
 "metadata": {
  "kernelspec": {
   "display_name": "Python 3",
   "language": "python",
   "name": "python3"
  },
  "language_info": {
   "codemirror_mode": {
    "name": "ipython",
    "version": 3
   },
   "file_extension": ".py",
   "mimetype": "text/x-python",
   "name": "python",
   "nbconvert_exporter": "python",
   "pygments_lexer": "ipython3",
   "version": "3.6.9"
  }
 },
 "nbformat": 4,
 "nbformat_minor": 5
}
